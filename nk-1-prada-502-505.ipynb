{
 "cells": [
  {
   "cell_type": "markdown",
   "id": "a21bf290",
   "metadata": {
    "papermill": {
     "duration": 0.016629,
     "end_time": "2024-07-18T17:35:05.266199",
     "exception": false,
     "start_time": "2024-07-18T17:35:05.249570",
     "status": "completed"
    },
    "tags": []
   },
   "source": [
    "# Sample Notebook for the Data Analytics Hackathon"
   ]
  },
  {
   "cell_type": "markdown",
   "id": "8beee725",
   "metadata": {
    "papermill": {
     "duration": 0.015649,
     "end_time": "2024-07-18T17:35:05.299368",
     "exception": false,
     "start_time": "2024-07-18T17:35:05.283719",
     "status": "completed"
    },
    "tags": []
   },
   "source": [
    "* The notebook that you submit **must** run (without *any* errors), and create a `submission.csv` file, in the required format.\n",
    "\n",
    "* This notebook should serve as a template to your final notebook submission."
   ]
  },
  {
   "cell_type": "code",
   "execution_count": 1,
   "id": "f584db39",
   "metadata": {
    "_cell_guid": "b1076dfc-b9ad-4769-8c92-a6c4dae69d19",
    "_uuid": "8f2839f25d086af736a60e9eeb907d3b93b6e0e5",
    "execution": {
     "iopub.execute_input": "2024-07-18T17:35:05.333679Z",
     "iopub.status.busy": "2024-07-18T17:35:05.333263Z",
     "iopub.status.idle": "2024-07-18T17:35:06.183067Z",
     "shell.execute_reply": "2024-07-18T17:35:06.182044Z"
    },
    "papermill": {
     "duration": 0.870655,
     "end_time": "2024-07-18T17:35:06.186415",
     "exception": false,
     "start_time": "2024-07-18T17:35:05.315760",
     "status": "completed"
    },
    "tags": []
   },
   "outputs": [
    {
     "name": "stdout",
     "output_type": "stream",
     "text": [
      "/kaggle/input/nk-1-prada-502-505/__results__.html\n",
      "/kaggle/input/nk-1-prada-502-505/submission.csv\n",
      "/kaggle/input/nk-1-prada-502-505/__notebook__.ipynb\n",
      "/kaggle/input/nk-1-prada-502-505/__output__.json\n",
      "/kaggle/input/nk-1-prada-502-505/custom.css\n",
      "/kaggle/input/nk-1-prada-502-505/__results___files/__results___25_4.png\n",
      "/kaggle/input/ue21cs342aa2/sample_submission.csv\n",
      "/kaggle/input/ue21cs342aa2/train.csv\n",
      "/kaggle/input/ue21cs342aa2/test.csv\n"
     ]
    }
   ],
   "source": [
    "# This Python 3 environment comes with many helpful analytics libraries installed\n",
    "# It is defined by the kaggle/python Docker image: https://github.com/kaggle/docker-python\n",
    "# For example, here's several helpful packages to load\n",
    "\n",
    "import numpy as np # linear algebra\n",
    "import pandas as pd # data processing, CSV file I/O (e.g. pd.read_csv)\n",
    "\n",
    "# Input data files are available in the read-only \"../input/\" directory\n",
    "# For example, running this (by clicking run or pressing Shift+Enter) will list all files under the input directory\n",
    "\n",
    "import os\n",
    "for dirname, _, filenames in os.walk('/kaggle/input'):\n",
    "    for filename in filenames:\n",
    "        print(os.path.join(dirname, filename))\n",
    "\n",
    "# You can write up to 20GB to the current directory (/kaggle/working/) that gets preserved as output when you create a version using \"Save & Run All\" \n",
    "# You can also write temporary files to /kaggle/temp/, but they won't be saved outside of the current session"
   ]
  },
  {
   "cell_type": "markdown",
   "id": "a9e7c78c",
   "metadata": {
    "papermill": {
     "duration": 0.015918,
     "end_time": "2024-07-18T17:35:06.219283",
     "exception": false,
     "start_time": "2024-07-18T17:35:06.203365",
     "status": "completed"
    },
    "tags": []
   },
   "source": [
    "`index_col` helps you to retain the index as provided in the dataset."
   ]
  },
  {
   "cell_type": "code",
   "execution_count": 2,
   "id": "7c7508ed",
   "metadata": {
    "execution": {
     "iopub.execute_input": "2024-07-18T17:35:06.253682Z",
     "iopub.status.busy": "2024-07-18T17:35:06.253121Z",
     "iopub.status.idle": "2024-07-18T17:35:06.291607Z",
     "shell.execute_reply": "2024-07-18T17:35:06.290577Z"
    },
    "papermill": {
     "duration": 0.059077,
     "end_time": "2024-07-18T17:35:06.294529",
     "exception": false,
     "start_time": "2024-07-18T17:35:06.235452",
     "status": "completed"
    },
    "tags": []
   },
   "outputs": [],
   "source": [
    "train = pd.read_csv(\"/kaggle/input/ue21cs342aa2/train.csv\", index_col = 0)\n",
    "test = pd.read_csv(\"/kaggle/input/ue21cs342aa2/test.csv\", index_col = 0)"
   ]
  },
  {
   "cell_type": "code",
   "execution_count": 3,
   "id": "48b4e7cd",
   "metadata": {
    "execution": {
     "iopub.execute_input": "2024-07-18T17:35:06.329754Z",
     "iopub.status.busy": "2024-07-18T17:35:06.329372Z",
     "iopub.status.idle": "2024-07-18T17:35:06.338390Z",
     "shell.execute_reply": "2024-07-18T17:35:06.337191Z"
    },
    "papermill": {
     "duration": 0.029676,
     "end_time": "2024-07-18T17:35:06.340932",
     "exception": false,
     "start_time": "2024-07-18T17:35:06.311256",
     "status": "completed"
    },
    "tags": []
   },
   "outputs": [],
   "source": [
    "submission = pd.DataFrame()\n",
    "submission[\"Date\"] = test[\"Date\"]"
   ]
  },
  {
   "cell_type": "code",
   "execution_count": 4,
   "id": "7a7295cb",
   "metadata": {
    "execution": {
     "iopub.execute_input": "2024-07-18T17:35:06.375049Z",
     "iopub.status.busy": "2024-07-18T17:35:06.374660Z",
     "iopub.status.idle": "2024-07-18T17:35:06.390067Z",
     "shell.execute_reply": "2024-07-18T17:35:06.388763Z"
    },
    "papermill": {
     "duration": 0.035577,
     "end_time": "2024-07-18T17:35:06.392755",
     "exception": false,
     "start_time": "2024-07-18T17:35:06.357178",
     "status": "completed"
    },
    "tags": []
   },
   "outputs": [
    {
     "data": {
      "text/html": [
       "<div>\n",
       "<style scoped>\n",
       "    .dataframe tbody tr th:only-of-type {\n",
       "        vertical-align: middle;\n",
       "    }\n",
       "\n",
       "    .dataframe tbody tr th {\n",
       "        vertical-align: top;\n",
       "    }\n",
       "\n",
       "    .dataframe thead th {\n",
       "        text-align: right;\n",
       "    }\n",
       "</style>\n",
       "<table border=\"1\" class=\"dataframe\">\n",
       "  <thead>\n",
       "    <tr style=\"text-align: right;\">\n",
       "      <th></th>\n",
       "      <th>Date</th>\n",
       "    </tr>\n",
       "    <tr>\n",
       "      <th>id</th>\n",
       "      <th></th>\n",
       "    </tr>\n",
       "  </thead>\n",
       "  <tbody>\n",
       "    <tr>\n",
       "      <th>0</th>\n",
       "      <td>2021-03-01</td>\n",
       "    </tr>\n",
       "    <tr>\n",
       "      <th>1</th>\n",
       "      <td>2021-03-08</td>\n",
       "    </tr>\n",
       "    <tr>\n",
       "      <th>2</th>\n",
       "      <td>2021-03-15</td>\n",
       "    </tr>\n",
       "    <tr>\n",
       "      <th>3</th>\n",
       "      <td>2021-03-22</td>\n",
       "    </tr>\n",
       "    <tr>\n",
       "      <th>4</th>\n",
       "      <td>2021-03-29</td>\n",
       "    </tr>\n",
       "  </tbody>\n",
       "</table>\n",
       "</div>"
      ],
      "text/plain": [
       "          Date\n",
       "id            \n",
       "0   2021-03-01\n",
       "1   2021-03-08\n",
       "2   2021-03-15\n",
       "3   2021-03-22\n",
       "4   2021-03-29"
      ]
     },
     "execution_count": 4,
     "metadata": {},
     "output_type": "execute_result"
    }
   ],
   "source": [
    "submission.head()"
   ]
  },
  {
   "cell_type": "code",
   "execution_count": 5,
   "id": "fd4221cb",
   "metadata": {
    "execution": {
     "iopub.execute_input": "2024-07-18T17:35:06.427381Z",
     "iopub.status.busy": "2024-07-18T17:35:06.426945Z",
     "iopub.status.idle": "2024-07-18T17:35:06.444832Z",
     "shell.execute_reply": "2024-07-18T17:35:06.443712Z"
    },
    "papermill": {
     "duration": 0.038366,
     "end_time": "2024-07-18T17:35:06.447622",
     "exception": false,
     "start_time": "2024-07-18T17:35:06.409256",
     "status": "completed"
    },
    "tags": []
   },
   "outputs": [],
   "source": [
    "import pandas as pd\n",
    "\n",
    "# Assuming you have a DataFrame called \"train\" with a \"Date\" column\n",
    "train['Date'] = pd.to_datetime(train['Date'])  # Ensure \"Date\" is in datetime format\n",
    "\n",
    "# Split \"Date\" into separate columns for year, month, and day\n",
    "train['Year'] = train['Date'].dt.year\n",
    "train['Month'] = train['Date'].dt.month\n",
    "train['Day'] = train['Date'].dt.day"
   ]
  },
  {
   "cell_type": "code",
   "execution_count": 6,
   "id": "8414d3c8",
   "metadata": {
    "execution": {
     "iopub.execute_input": "2024-07-18T17:35:06.482648Z",
     "iopub.status.busy": "2024-07-18T17:35:06.482224Z",
     "iopub.status.idle": "2024-07-18T17:35:07.678760Z",
     "shell.execute_reply": "2024-07-18T17:35:07.677460Z"
    },
    "papermill": {
     "duration": 1.217352,
     "end_time": "2024-07-18T17:35:07.681652",
     "exception": false,
     "start_time": "2024-07-18T17:35:06.464300",
     "status": "completed"
    },
    "tags": []
   },
   "outputs": [
    {
     "name": "stdout",
     "output_type": "stream",
     "text": [
      "                 Open      Close     Volume  Strategy  Year  Month  Day\n",
      "Date                                                                   \n",
      "2015-06-01  66.208486  75.609978  298506300         1  2015      6    1\n",
      "2015-06-08  64.116235  74.443331  227974800         1  2015      6    8\n",
      "2015-06-15  47.701942  71.140831  250670900         0  2015      6   15\n",
      "2015-06-22  54.754816  72.881344  223614300         1  2015      6   22\n",
      "2015-06-29  48.031899  66.284718  406814900         0  2015      6   29\n",
      "...               ...        ...        ...       ...   ...    ...  ...\n",
      "2021-01-25  81.284821  83.373498  117281600         2  2021      1   25\n",
      "2021-02-01  71.970249  85.294903  177655800         2  2021      2    1\n",
      "2021-02-08  71.784627  83.266453  146003500         1  2021      2    8\n",
      "2021-02-15  69.372333  81.026827  167762500         1  2021      2   15\n",
      "2021-02-22  69.618620  78.672007  332979200         1  2021      2   22\n",
      "\n",
      "[300 rows x 7 columns]\n"
     ]
    }
   ],
   "source": [
    "train['Date'] = pd.to_datetime(train['Date'])\n",
    "train.set_index(['Date'],inplace=True)\n",
    "from sklearn.preprocessing import LabelEncoder\n",
    "\n",
    "label_encoder = LabelEncoder()\n",
    "train['Strategy'] = label_encoder.fit_transform(train['Strategy'])\n",
    "print(train)"
   ]
  },
  {
   "cell_type": "markdown",
   "id": "7cc42460",
   "metadata": {
    "papermill": {
     "duration": 0.016117,
     "end_time": "2024-07-18T17:35:07.714587",
     "exception": false,
     "start_time": "2024-07-18T17:35:07.698470",
     "status": "completed"
    },
    "tags": []
   },
   "source": [
    "This encoding is often done to prepare the target variable for use in machine learning models, as many algorithms require numerical input for the target variable. The result is a DataFrame where the \"Date\" column is the index, and the \"Strategy\" column contains numerical labels instead of categorical values."
   ]
  },
  {
   "cell_type": "markdown",
   "id": "ada25a01",
   "metadata": {
    "papermill": {
     "duration": 0.016202,
     "end_time": "2024-07-18T17:35:07.747262",
     "exception": false,
     "start_time": "2024-07-18T17:35:07.731060",
     "status": "completed"
    },
    "tags": []
   },
   "source": [
    "Splitting the \"Date\" column into year, month, and day is a common data preprocessing step that helps with temporal analysis, feature engineering, and data filtering in time series datasets.\n",
    "\n",
    "\n"
   ]
  },
  {
   "cell_type": "code",
   "execution_count": 7,
   "id": "b73bf68b",
   "metadata": {
    "execution": {
     "iopub.execute_input": "2024-07-18T17:35:07.782580Z",
     "iopub.status.busy": "2024-07-18T17:35:07.782174Z",
     "iopub.status.idle": "2024-07-18T17:35:07.793530Z",
     "shell.execute_reply": "2024-07-18T17:35:07.792493Z"
    },
    "papermill": {
     "duration": 0.031808,
     "end_time": "2024-07-18T17:35:07.795969",
     "exception": false,
     "start_time": "2024-07-18T17:35:07.764161",
     "status": "completed"
    },
    "tags": []
   },
   "outputs": [],
   "source": [
    "# Define the window size for the 7-day SMA\n",
    "window_size = 7\n",
    "# Calculate the 7-day Simple Moving Average (SMA) for the 'Open' and 'Close' columns\n",
    "train['SMA_Open'] = train['Open'].rolling(window=window_size).mean()\n",
    "train['SMA_Close'] = train['Close'].rolling(window=window_size).mean()"
   ]
  },
  {
   "cell_type": "code",
   "execution_count": 8,
   "id": "6381d375",
   "metadata": {
    "execution": {
     "iopub.execute_input": "2024-07-18T17:35:07.895051Z",
     "iopub.status.busy": "2024-07-18T17:35:07.894623Z",
     "iopub.status.idle": "2024-07-18T17:35:07.903515Z",
     "shell.execute_reply": "2024-07-18T17:35:07.902330Z"
    },
    "papermill": {
     "duration": 0.029847,
     "end_time": "2024-07-18T17:35:07.906186",
     "exception": false,
     "start_time": "2024-07-18T17:35:07.876339",
     "status": "completed"
    },
    "tags": []
   },
   "outputs": [],
   "source": [
    "train['Open_Diff'] = train['Open'].diff()\n",
    "train['Open_Diff'].fillna(0, inplace=True)"
   ]
  },
  {
   "cell_type": "code",
   "execution_count": 9,
   "id": "d5777cb8",
   "metadata": {
    "execution": {
     "iopub.execute_input": "2024-07-18T17:35:07.942325Z",
     "iopub.status.busy": "2024-07-18T17:35:07.941197Z",
     "iopub.status.idle": "2024-07-18T17:35:07.947657Z",
     "shell.execute_reply": "2024-07-18T17:35:07.946659Z"
    },
    "papermill": {
     "duration": 0.027132,
     "end_time": "2024-07-18T17:35:07.950144",
     "exception": false,
     "start_time": "2024-07-18T17:35:07.923012",
     "status": "completed"
    },
    "tags": []
   },
   "outputs": [],
   "source": [
    "ema_window = 20  # Adjust the window size as needed\n",
    "train['EMA'] = train['Close'].ewm(span=ema_window, adjust=False).mean()"
   ]
  },
  {
   "cell_type": "code",
   "execution_count": 10,
   "id": "f40eec3c",
   "metadata": {
    "execution": {
     "iopub.execute_input": "2024-07-18T17:35:07.985587Z",
     "iopub.status.busy": "2024-07-18T17:35:07.985176Z",
     "iopub.status.idle": "2024-07-18T17:35:08.004880Z",
     "shell.execute_reply": "2024-07-18T17:35:08.003659Z"
    },
    "papermill": {
     "duration": 0.040743,
     "end_time": "2024-07-18T17:35:08.007820",
     "exception": false,
     "start_time": "2024-07-18T17:35:07.967077",
     "status": "completed"
    },
    "tags": []
   },
   "outputs": [],
   "source": [
    "# Set the window size for RSI calculation\n",
    "window_size = 7\n",
    "\n",
    "# Calculate daily price changes in 'Close' column\n",
    "train['Price Change'] = train['Close'].diff()\n",
    "\n",
    "# Calculate upward and downward price changes\n",
    "train['Gain'] = train['Price Change'].apply(lambda x: x if x > 0 else 0)\n",
    "train['Loss'] = train['Price Change'].apply(lambda x: abs(x) if x < 0 else 0)\n",
    "\n",
    "# Calculate average gains and losses over the defined window\n",
    "train['Avg Gain'] = train['Gain'].rolling(window=window_size).mean()\n",
    "train['Avg Loss'] = train['Loss'].rolling(window=window_size).mean()\n",
    "\n",
    "# Calculate relative strength (RS) using the average gains and losses\n",
    "train['RS'] = train['Avg Gain'] / train['Avg Loss']\n",
    "\n",
    "# Calculate RSI\n",
    "train['RSI'] = 100 - (100 / (1 + train['RS']))\n",
    "\n",
    "# Drop intermediate columns used for calculation\n",
    "train = train.drop(['Gain', 'Loss', 'Avg Gain', 'Avg Loss', 'RS'], axis=1)"
   ]
  },
  {
   "cell_type": "markdown",
   "id": "8408336d",
   "metadata": {
    "papermill": {
     "duration": 0.01636,
     "end_time": "2024-07-18T17:35:08.040946",
     "exception": false,
     "start_time": "2024-07-18T17:35:08.024586",
     "status": "completed"
    },
    "tags": []
   },
   "source": [
    "We performed these RSI calculations to evaluate the momentum and potential overbought or oversold conditions in the financial time series. RSI is a common technical indicator used in finance to assess the strength and speed of price movements. It helps traders and analysts make more informed decisions about buying or selling assets by identifying potential trends and reversals in the market. Removing the intermediate columns simplifies the dataset, making it easier to work with for further analysis and modeling."
   ]
  },
  {
   "cell_type": "code",
   "execution_count": 11,
   "id": "a6d4e4b3",
   "metadata": {
    "execution": {
     "iopub.execute_input": "2024-07-18T17:35:08.076335Z",
     "iopub.status.busy": "2024-07-18T17:35:08.075903Z",
     "iopub.status.idle": "2024-07-18T17:35:08.084591Z",
     "shell.execute_reply": "2024-07-18T17:35:08.083428Z"
    },
    "papermill": {
     "duration": 0.029189,
     "end_time": "2024-07-18T17:35:08.087088",
     "exception": false,
     "start_time": "2024-07-18T17:35:08.057899",
     "status": "completed"
    },
    "tags": []
   },
   "outputs": [],
   "source": [
    "# Assuming 'df' is your DataFrame\n",
    "nan_values = train.isnull().sum()\n"
   ]
  },
  {
   "cell_type": "code",
   "execution_count": 12,
   "id": "f03dfc06",
   "metadata": {
    "execution": {
     "iopub.execute_input": "2024-07-18T17:35:08.122253Z",
     "iopub.status.busy": "2024-07-18T17:35:08.121795Z",
     "iopub.status.idle": "2024-07-18T17:35:08.129755Z",
     "shell.execute_reply": "2024-07-18T17:35:08.128598Z"
    },
    "papermill": {
     "duration": 0.028506,
     "end_time": "2024-07-18T17:35:08.132331",
     "exception": false,
     "start_time": "2024-07-18T17:35:08.103825",
     "status": "completed"
    },
    "tags": []
   },
   "outputs": [],
   "source": [
    "train['RSI'].fillna(50, inplace=True)\n",
    "nan_values = train.isnull().sum()\n"
   ]
  },
  {
   "cell_type": "code",
   "execution_count": 13,
   "id": "9fa092bb",
   "metadata": {
    "execution": {
     "iopub.execute_input": "2024-07-18T17:35:08.167956Z",
     "iopub.status.busy": "2024-07-18T17:35:08.167523Z",
     "iopub.status.idle": "2024-07-18T17:35:08.175522Z",
     "shell.execute_reply": "2024-07-18T17:35:08.174377Z"
    },
    "papermill": {
     "duration": 0.028754,
     "end_time": "2024-07-18T17:35:08.178159",
     "exception": false,
     "start_time": "2024-07-18T17:35:08.149405",
     "status": "completed"
    },
    "tags": []
   },
   "outputs": [],
   "source": [
    "# Calculate mean values\n",
    "mean_SMA_Open = train['SMA_Open'].mean()\n",
    "mean_SMA_Close = train['SMA_Close'].mean()\n",
    "\n",
    "# Fill missing SMA values with the mean\n",
    "train['SMA_Open'].fillna(mean_SMA_Open, inplace=True)\n",
    "train['SMA_Close'].fillna(mean_SMA_Close, inplace=True)"
   ]
  },
  {
   "cell_type": "code",
   "execution_count": 14,
   "id": "d1041982",
   "metadata": {
    "execution": {
     "iopub.execute_input": "2024-07-18T17:35:08.213425Z",
     "iopub.status.busy": "2024-07-18T17:35:08.212980Z",
     "iopub.status.idle": "2024-07-18T17:35:08.226779Z",
     "shell.execute_reply": "2024-07-18T17:35:08.225534Z"
    },
    "papermill": {
     "duration": 0.03414,
     "end_time": "2024-07-18T17:35:08.229133",
     "exception": false,
     "start_time": "2024-07-18T17:35:08.194993",
     "status": "completed"
    },
    "tags": []
   },
   "outputs": [
    {
     "data": {
      "text/html": [
       "<div>\n",
       "<style scoped>\n",
       "    .dataframe tbody tr th:only-of-type {\n",
       "        vertical-align: middle;\n",
       "    }\n",
       "\n",
       "    .dataframe tbody tr th {\n",
       "        vertical-align: top;\n",
       "    }\n",
       "\n",
       "    .dataframe thead th {\n",
       "        text-align: right;\n",
       "    }\n",
       "</style>\n",
       "<table border=\"1\" class=\"dataframe\">\n",
       "  <thead>\n",
       "    <tr style=\"text-align: right;\">\n",
       "      <th></th>\n",
       "      <th>SMA_Open</th>\n",
       "    </tr>\n",
       "    <tr>\n",
       "      <th>Date</th>\n",
       "      <th></th>\n",
       "    </tr>\n",
       "  </thead>\n",
       "  <tbody>\n",
       "    <tr>\n",
       "      <th>2015-06-01</th>\n",
       "      <td>76.201268</td>\n",
       "    </tr>\n",
       "    <tr>\n",
       "      <th>2015-06-08</th>\n",
       "      <td>76.201268</td>\n",
       "    </tr>\n",
       "    <tr>\n",
       "      <th>2015-06-15</th>\n",
       "      <td>76.201268</td>\n",
       "    </tr>\n",
       "    <tr>\n",
       "      <th>2015-06-22</th>\n",
       "      <td>76.201268</td>\n",
       "    </tr>\n",
       "    <tr>\n",
       "      <th>2015-06-29</th>\n",
       "      <td>76.201268</td>\n",
       "    </tr>\n",
       "    <tr>\n",
       "      <th>...</th>\n",
       "      <td>...</td>\n",
       "    </tr>\n",
       "    <tr>\n",
       "      <th>2021-01-25</th>\n",
       "      <td>80.510661</td>\n",
       "    </tr>\n",
       "    <tr>\n",
       "      <th>2021-02-01</th>\n",
       "      <td>79.412815</td>\n",
       "    </tr>\n",
       "    <tr>\n",
       "      <th>2021-02-08</th>\n",
       "      <td>78.187504</td>\n",
       "    </tr>\n",
       "    <tr>\n",
       "      <th>2021-02-15</th>\n",
       "      <td>76.486638</td>\n",
       "    </tr>\n",
       "    <tr>\n",
       "      <th>2021-02-22</th>\n",
       "      <td>74.933515</td>\n",
       "    </tr>\n",
       "  </tbody>\n",
       "</table>\n",
       "<p>300 rows × 1 columns</p>\n",
       "</div>"
      ],
      "text/plain": [
       "             SMA_Open\n",
       "Date                 \n",
       "2015-06-01  76.201268\n",
       "2015-06-08  76.201268\n",
       "2015-06-15  76.201268\n",
       "2015-06-22  76.201268\n",
       "2015-06-29  76.201268\n",
       "...               ...\n",
       "2021-01-25  80.510661\n",
       "2021-02-01  79.412815\n",
       "2021-02-08  78.187504\n",
       "2021-02-15  76.486638\n",
       "2021-02-22  74.933515\n",
       "\n",
       "[300 rows x 1 columns]"
      ]
     },
     "execution_count": 14,
     "metadata": {},
     "output_type": "execute_result"
    }
   ],
   "source": [
    "train[['SMA_Open']]"
   ]
  },
  {
   "cell_type": "code",
   "execution_count": 15,
   "id": "809b8528",
   "metadata": {
    "execution": {
     "iopub.execute_input": "2024-07-18T17:35:08.275371Z",
     "iopub.status.busy": "2024-07-18T17:35:08.274835Z",
     "iopub.status.idle": "2024-07-18T17:35:08.289532Z",
     "shell.execute_reply": "2024-07-18T17:35:08.288232Z"
    },
    "papermill": {
     "duration": 0.042733,
     "end_time": "2024-07-18T17:35:08.293792",
     "exception": false,
     "start_time": "2024-07-18T17:35:08.251059",
     "status": "completed"
    },
    "tags": []
   },
   "outputs": [
    {
     "data": {
      "text/plain": [
       "Index(['Open', 'Close', 'Volume', 'Strategy', 'Year', 'Month', 'Day',\n",
       "       'SMA_Open', 'SMA_Close', 'Open_Diff', 'EMA', 'Price Change', 'RSI'],\n",
       "      dtype='object')"
      ]
     },
     "execution_count": 15,
     "metadata": {},
     "output_type": "execute_result"
    }
   ],
   "source": [
    "train.columns"
   ]
  },
  {
   "cell_type": "code",
   "execution_count": 16,
   "id": "4057bad2",
   "metadata": {
    "execution": {
     "iopub.execute_input": "2024-07-18T17:35:08.331857Z",
     "iopub.status.busy": "2024-07-18T17:35:08.331413Z",
     "iopub.status.idle": "2024-07-18T17:35:08.337902Z",
     "shell.execute_reply": "2024-07-18T17:35:08.336802Z"
    },
    "papermill": {
     "duration": 0.028038,
     "end_time": "2024-07-18T17:35:08.340830",
     "exception": false,
     "start_time": "2024-07-18T17:35:08.312792",
     "status": "completed"
    },
    "tags": []
   },
   "outputs": [],
   "source": [
    "# Determine the size for training and testing data\n",
    "train_size = int(len(train) * 0.8)  # 80% for training\n",
    "test_size = len(train) - train_size  # Remaining data for testing\n",
    "\n",
    "# Split the dataset into training and testing\n",
    "train2, test2 = train.iloc[:train_size], train.iloc[train_size:]"
   ]
  },
  {
   "cell_type": "code",
   "execution_count": 17,
   "id": "c8eb711d",
   "metadata": {
    "execution": {
     "iopub.execute_input": "2024-07-18T17:35:08.379068Z",
     "iopub.status.busy": "2024-07-18T17:35:08.378668Z",
     "iopub.status.idle": "2024-07-18T17:35:08.388559Z",
     "shell.execute_reply": "2024-07-18T17:35:08.387410Z"
    },
    "papermill": {
     "duration": 0.030976,
     "end_time": "2024-07-18T17:35:08.391161",
     "exception": false,
     "start_time": "2024-07-18T17:35:08.360185",
     "status": "completed"
    },
    "tags": []
   },
   "outputs": [
    {
     "data": {
      "text/plain": [
       "Date\n",
       "2015-06-01    76.201268\n",
       "2015-06-08    76.201268\n",
       "2015-06-15    76.201268\n",
       "2015-06-22    76.201268\n",
       "2015-06-29    76.201268\n",
       "                ...    \n",
       "2019-12-02    76.674435\n",
       "2019-12-09    75.368382\n",
       "2019-12-16    73.444512\n",
       "2019-12-23    71.140588\n",
       "2019-12-30    69.719905\n",
       "Name: SMA_Open, Length: 240, dtype: float64"
      ]
     },
     "execution_count": 17,
     "metadata": {},
     "output_type": "execute_result"
    }
   ],
   "source": [
    "train2['SMA_Open']"
   ]
  },
  {
   "cell_type": "markdown",
   "id": "24d546a6",
   "metadata": {
    "papermill": {
     "duration": 0.017458,
     "end_time": "2024-07-18T17:35:08.426002",
     "exception": false,
     "start_time": "2024-07-18T17:35:08.408544",
     "status": "completed"
    },
    "tags": []
   },
   "source": [
    "**Your model creation, training and inferencing code, along with suitable analysis and reasoning!**"
   ]
  },
  {
   "cell_type": "code",
   "execution_count": 18,
   "id": "0de94113",
   "metadata": {
    "execution": {
     "iopub.execute_input": "2024-07-18T17:35:08.472833Z",
     "iopub.status.busy": "2024-07-18T17:35:08.471893Z",
     "iopub.status.idle": "2024-07-18T17:35:24.643399Z",
     "shell.execute_reply": "2024-07-18T17:35:24.641968Z"
    },
    "papermill": {
     "duration": 16.197229,
     "end_time": "2024-07-18T17:35:24.646269",
     "exception": false,
     "start_time": "2024-07-18T17:35:08.449040",
     "status": "completed"
    },
    "tags": []
   },
   "outputs": [
    {
     "name": "stdout",
     "output_type": "stream",
     "text": [
      "Collecting pmdarima\r\n",
      "  Downloading pmdarima-2.0.4-cp310-cp310-manylinux_2_17_x86_64.manylinux2014_x86_64.manylinux_2_28_x86_64.whl (2.1 MB)\r\n",
      "\u001b[2K     \u001b[90m━━━━━━━━━━━━━━━━━━━━━━━━━━━━━━━━━━━━━━━━\u001b[0m \u001b[32m2.1/2.1 MB\u001b[0m \u001b[31m21.4 MB/s\u001b[0m eta \u001b[36m0:00:00\u001b[0m\r\n",
      "\u001b[?25hRequirement already satisfied: joblib>=0.11 in /opt/conda/lib/python3.10/site-packages (from pmdarima) (1.3.2)\r\n",
      "Requirement already satisfied: Cython!=0.29.18,!=0.29.31,>=0.29 in /opt/conda/lib/python3.10/site-packages (from pmdarima) (0.29.35)\r\n",
      "Requirement already satisfied: numpy>=1.21.2 in /opt/conda/lib/python3.10/site-packages (from pmdarima) (1.23.5)\r\n",
      "Requirement already satisfied: pandas>=0.19 in /opt/conda/lib/python3.10/site-packages (from pmdarima) (2.0.3)\r\n",
      "Requirement already satisfied: scikit-learn>=0.22 in /opt/conda/lib/python3.10/site-packages (from pmdarima) (1.2.2)\r\n",
      "Requirement already satisfied: scipy>=1.3.2 in /opt/conda/lib/python3.10/site-packages (from pmdarima) (1.11.2)\r\n",
      "Requirement already satisfied: statsmodels>=0.13.2 in /opt/conda/lib/python3.10/site-packages (from pmdarima) (0.14.0)\r\n",
      "Requirement already satisfied: urllib3 in /opt/conda/lib/python3.10/site-packages (from pmdarima) (1.26.15)\r\n",
      "Requirement already satisfied: setuptools!=50.0.0,>=38.6.0 in /opt/conda/lib/python3.10/site-packages (from pmdarima) (68.0.0)\r\n",
      "Requirement already satisfied: packaging>=17.1 in /opt/conda/lib/python3.10/site-packages (from pmdarima) (21.3)\r\n",
      "Requirement already satisfied: pyparsing!=3.0.5,>=2.0.2 in /opt/conda/lib/python3.10/site-packages (from packaging>=17.1->pmdarima) (3.0.9)\r\n",
      "Requirement already satisfied: python-dateutil>=2.8.2 in /opt/conda/lib/python3.10/site-packages (from pandas>=0.19->pmdarima) (2.8.2)\r\n",
      "Requirement already satisfied: pytz>=2020.1 in /opt/conda/lib/python3.10/site-packages (from pandas>=0.19->pmdarima) (2023.3)\r\n",
      "Requirement already satisfied: tzdata>=2022.1 in /opt/conda/lib/python3.10/site-packages (from pandas>=0.19->pmdarima) (2023.3)\r\n",
      "Requirement already satisfied: threadpoolctl>=2.0.0 in /opt/conda/lib/python3.10/site-packages (from scikit-learn>=0.22->pmdarima) (3.1.0)\r\n",
      "Requirement already satisfied: patsy>=0.5.2 in /opt/conda/lib/python3.10/site-packages (from statsmodels>=0.13.2->pmdarima) (0.5.3)\r\n",
      "Requirement already satisfied: six in /opt/conda/lib/python3.10/site-packages (from patsy>=0.5.2->statsmodels>=0.13.2->pmdarima) (1.16.0)\r\n",
      "Installing collected packages: pmdarima\r\n",
      "Successfully installed pmdarima-2.0.4\r\n"
     ]
    }
   ],
   "source": [
    "!pip install pmdarima"
   ]
  },
  {
   "cell_type": "code",
   "execution_count": 19,
   "id": "d4cb9a96",
   "metadata": {
    "execution": {
     "iopub.execute_input": "2024-07-18T17:35:24.685722Z",
     "iopub.status.busy": "2024-07-18T17:35:24.685264Z",
     "iopub.status.idle": "2024-07-18T17:36:23.499698Z",
     "shell.execute_reply": "2024-07-18T17:36:23.498511Z"
    },
    "papermill": {
     "duration": 58.837619,
     "end_time": "2024-07-18T17:36:23.502696",
     "exception": false,
     "start_time": "2024-07-18T17:35:24.665077",
     "status": "completed"
    },
    "tags": []
   },
   "outputs": [
    {
     "name": "stdout",
     "output_type": "stream",
     "text": [
      "Performing stepwise search to minimize aic\n",
      " ARIMA(2,1,2)(1,0,1)[52] intercept   : AIC=inf, Time=18.95 sec\n",
      " ARIMA(0,1,0)(0,0,0)[52] intercept   : AIC=1256.013, Time=0.07 sec\n",
      " ARIMA(1,1,0)(1,0,0)[52] intercept   : AIC=1257.375, Time=1.71 sec\n",
      " ARIMA(0,1,1)(0,0,1)[52] intercept   : AIC=1257.260, Time=2.08 sec\n",
      " ARIMA(0,1,0)(0,0,0)[52]             : AIC=1254.019, Time=0.08 sec\n",
      " ARIMA(0,1,0)(1,0,0)[52] intercept   : AIC=1257.998, Time=1.17 sec\n",
      " ARIMA(0,1,0)(0,0,1)[52] intercept   : AIC=1257.997, Time=1.71 sec\n",
      " ARIMA(0,1,0)(1,0,1)[52] intercept   : AIC=inf, Time=10.62 sec\n",
      " ARIMA(1,1,0)(0,0,0)[52] intercept   : AIC=1255.434, Time=0.09 sec\n",
      " ARIMA(0,1,1)(0,0,0)[52] intercept   : AIC=1255.332, Time=0.15 sec\n",
      " ARIMA(1,1,1)(0,0,0)[52] intercept   : AIC=1257.270, Time=0.23 sec\n",
      "\n",
      "Best model:  ARIMA(0,1,0)(0,0,0)[52]          \n",
      "Total fit time: 36.942 seconds\n",
      "                               SARIMAX Results                                \n",
      "==============================================================================\n",
      "Dep. Variable:                      y   No. Observations:                  240\n",
      "Model:               SARIMAX(0, 1, 0)   Log Likelihood                -626.009\n",
      "Date:                Thu, 18 Jul 2024   AIC                           1254.019\n",
      "Time:                        17:36:03   BIC                           1257.495\n",
      "Sample:                    06-01-2015   HQIC                          1255.420\n",
      "                         - 12-30-2019                                         \n",
      "Covariance Type:                  opg                                         \n",
      "==============================================================================\n",
      "                 coef    std err          z      P>|z|      [0.025      0.975]\n",
      "------------------------------------------------------------------------------\n",
      "sigma2        11.0308      0.893     12.347      0.000       9.280      12.782\n",
      "===================================================================================\n",
      "Ljung-Box (L1) (Q):                   2.61   Jarque-Bera (JB):                 5.00\n",
      "Prob(Q):                              0.11   Prob(JB):                         0.08\n",
      "Heteroskedasticity (H):               1.09   Skew:                            -0.23\n",
      "Prob(H) (two-sided):                  0.69   Kurtosis:                         3.55\n",
      "===================================================================================\n",
      "\n",
      "Warnings:\n",
      "[1] Covariance matrix calculated using the outer product of gradients (complex-step).\n"
     ]
    },
    {
     "name": "stderr",
     "output_type": "stream",
     "text": [
      "/opt/conda/lib/python3.10/site-packages/statsmodels/tsa/base/tsa_model.py:473: ValueWarning: No frequency information was provided, so inferred frequency W-MON will be used.\n",
      "  self._init_dates(dates, freq)\n",
      "/opt/conda/lib/python3.10/site-packages/statsmodels/tsa/base/tsa_model.py:473: ValueWarning: No frequency information was provided, so inferred frequency W-MON will be used.\n",
      "  self._init_dates(dates, freq)\n",
      "/opt/conda/lib/python3.10/site-packages/statsmodels/tsa/statespace/sarimax.py:1009: UserWarning: Non-invertible starting seasonal moving average Using zeros as starting parameters.\n",
      "  warn('Non-invertible starting seasonal moving average'\n"
     ]
    },
    {
     "name": "stdout",
     "output_type": "stream",
     "text": [
      "RUNNING THE L-BFGS-B CODE\n",
      "\n",
      "           * * *\n",
      "\n",
      "Machine precision = 2.220D-16\n",
      " N =            8     M =           10\n",
      "\n",
      "At X0         0 variables are exactly at the bounds\n",
      "\n",
      "At iterate    0    f=  2.17734D+00    |proj g|=  1.21797D+09\n"
     ]
    },
    {
     "name": "stderr",
     "output_type": "stream",
     "text": [
      " This problem is unconstrained.\n"
     ]
    },
    {
     "name": "stdout",
     "output_type": "stream",
     "text": [
      "\n",
      "           * * *\n",
      "\n",
      "Tit   = total number of iterations\n",
      "Tnf   = total number of function evaluations\n",
      "Tnint = total number of segments explored during Cauchy searches\n",
      "Skip  = number of BFGS updates skipped\n",
      "Nact  = number of active bounds at final generalized Cauchy point\n",
      "Projg = norm of the final projected gradient\n",
      "F     = final function value\n",
      "\n",
      "           * * *\n",
      "\n",
      "   N    Tit     Tnf  Tnint  Skip  Nact     Projg        F\n",
      "    8      1     21      1     0     0   1.218D+09   2.177D+00\n",
      "  F =   2.1773376092435321     \n",
      "\n",
      "ABNORMAL_TERMINATION_IN_LNSRCH                              \n"
     ]
    },
    {
     "name": "stderr",
     "output_type": "stream",
     "text": [
      "\n",
      " Line search cannot locate an adequate point after MAXLS\n",
      "  function and gradient evaluations.\n",
      "  Previous x, f and g restored.\n",
      " Possible causes: 1 error in function or gradient evaluation;\n",
      "                  2 rounding error dominate computation.\n",
      "/opt/conda/lib/python3.10/site-packages/statsmodels/base/model.py:607: ConvergenceWarning: Maximum Likelihood optimization failed to converge. Check mle_retvals\n",
      "  warnings.warn(\"Maximum Likelihood optimization failed to \"\n"
     ]
    },
    {
     "data": {
      "image/png": "[encoded data removed]",
      "text/plain": [
       "<Figure size 640x480 with 1 Axes>"
      ]
     },
     "metadata": {},
     "output_type": "display_data"
    },
    {
     "name": "stdout",
     "output_type": "stream",
     "text": [
      "SMAPE: 0.020412121884187794\n"
     ]
    }
   ],
   "source": [
    "# Import necessary libraries for SARIMAX modeling\n",
    "import statsmodels.api as sm\n",
    "from pmdarima import auto_arima\n",
    "\n",
    "# Set SARIMA hyperparameters\n",
    "p = 1  # Autoregressive order\n",
    "d = 1  # Differencing order\n",
    "q = 1  # Moving average order\n",
    "P = 1  # Seasonal autoregressive order\n",
    "D = 1  # Seasonal differencing order\n",
    "Q = 1  # Seasonal moving average order\n",
    "s = 52  # Seasonal period (assuming monthly data)\n",
    "\n",
    "# Define exogenous variables\n",
    "exog_vars = train2[['Open', 'SMA_Open', 'Volume']]\n",
    "exog_vars = exog_vars.fillna(0)  # Replace missing values with zeros\n",
    "\n",
    "\n",
    "# Fit a SARIMA model using auto_arima to automatically select hyperparameters\n",
    "model = auto_arima(train2['Close'], exogenous=exog_vars, seasonal=True, m=s, stepwise=True, trace=True)\n",
    "\n",
    "# Print the SARIMA model summary\n",
    "print(model.summary())\n",
    "\n",
    "# Fit the SARIMA model\n",
    "sarima_model = sm.tsa.SARIMAX(train2['Close'], exog=exog_vars, order=(p, d, q), seasonal_order=(P, D, Q, s))\n",
    "results = sarima_model.fit()\n",
    "\n",
    "# Make predictions on the test data\n",
    "test_exog_vars = test2[['Open', 'SMA_Open', 'Volume']]\n",
    "predictions = results.get_forecast(steps=len(test2), exog=test_exog_vars)\n",
    "predicted_close = predictions.predicted_mean\n",
    "\n",
    "# Assuming you have a datetime index for your test data\n",
    "date_index = test2.index\n",
    "\n",
    "# Plot the actual \"Close\" values from your test dataset\n",
    "import matplotlib.pyplot as plt\n",
    "\n",
    "plt.plot(date_index, test2['Close'], label=\"Actual Close\", color=\"blue\")\n",
    "\n",
    "# Plot the predicted \"Close\" values\n",
    "plt.plot(date_index, predicted_close, label=\"Predicted Close\", color=\"red\")\n",
    "\n",
    "# Set labels and a legend\n",
    "plt.xlabel(\"Date\")\n",
    "plt.ylabel(\"Close Price\")\n",
    "plt.title(\"Actual vs. Predicted Close Prices\")\n",
    "plt.legend()\n",
    "\n",
    "# Show the plot\n",
    "plt.show()\n",
    "\n",
    "# Calculate SMAPE for model evaluation\n",
    "y_pred = predicted_close\n",
    "y_true = test2['Close']\n",
    "smape = np.mean(np.abs(y_pred - y_true) / (np.abs(y_pred) + np.abs(y_true)))\n",
    "print(\"SMAPE:\", smape)\n"
   ]
  },
  {
   "cell_type": "markdown",
   "id": "0acc7541",
   "metadata": {
    "papermill": {
     "duration": 0.020344,
     "end_time": "2024-07-18T17:36:23.544078",
     "exception": false,
     "start_time": "2024-07-18T17:36:23.523734",
     "status": "completed"
    },
    "tags": []
   },
   "source": [
    "Model Selection:\n",
    "\n",
    "We use a SARIMA model, which is suitable for time series forecasting.\n",
    "\n",
    "Feature Engineering:\n",
    "We include exogenous variables ('Open', 'SMA_Open', 'Volume') which can influence stock prices.\n",
    "Missing exogenous values are filled with zeros.\n",
    "\n",
    "Hyperparameter Tuning:\n",
    "We automate the selection of SARIMA hyperparameters using the 'auto_arima' function.\n",
    "We have chosen specific hyperparameters for our seasonal ARIMA (SARIMA) model based on the characteristics of the stock trading data. The autoregressive (AR) order 'p' is set to 1, indicating that we consider the previous time step for prediction. The differencing order 'd' is 1, addressing first-order non-stationarity. The moving average (MA) order 'q' is also 1, accounting for past forecast errors. Seasonal components include a seasonal autoregressive order 'P' of 1, seasonal differencing order 'D' of 1, seasonal moving average order 'Q' of 1, and a seasonal period 's' of 52, reflecting weekly data and yearly cycles. \n",
    "\n",
    "\n",
    "Model Fitting:\n",
    "We fit a SARIMA model with chosen hyperparameters and exogenous variables.\n",
    "\n",
    "Prediction:\n",
    "We use the model to predict stock prices on the test data, including exogenous features.\n",
    "\n",
    "Evaluation:\n",
    "We visualize actual vs. predicted prices and calculate SMAPE for model performance assessment.\n",
    "This approach combines model selection, feature engineering, automated hyperparameter tuning, and performance evaluation for effective stock price forecasting."
   ]
  },
  {
   "cell_type": "code",
   "execution_count": 20,
   "id": "cff1b6cc",
   "metadata": {
    "execution": {
     "iopub.execute_input": "2024-07-18T17:36:23.588013Z",
     "iopub.status.busy": "2024-07-18T17:36:23.587087Z",
     "iopub.status.idle": "2024-07-18T17:36:23.594581Z",
     "shell.execute_reply": "2024-07-18T17:36:23.593522Z"
    },
    "papermill": {
     "duration": 0.031943,
     "end_time": "2024-07-18T17:36:23.596986",
     "exception": false,
     "start_time": "2024-07-18T17:36:23.565043",
     "status": "completed"
    },
    "tags": []
   },
   "outputs": [
    {
     "data": {
      "text/plain": [
       "Index(['Open', 'Close', 'Volume', 'Strategy', 'Year', 'Month', 'Day',\n",
       "       'SMA_Open', 'SMA_Close', 'Open_Diff', 'EMA', 'Price Change', 'RSI'],\n",
       "      dtype='object')"
      ]
     },
     "execution_count": 20,
     "metadata": {},
     "output_type": "execute_result"
    }
   ],
   "source": [
    "train2.columns"
   ]
  },
  {
   "cell_type": "code",
   "execution_count": 21,
   "id": "7d654195",
   "metadata": {
    "execution": {
     "iopub.execute_input": "2024-07-18T17:36:23.642302Z",
     "iopub.status.busy": "2024-07-18T17:36:23.641551Z",
     "iopub.status.idle": "2024-07-18T17:36:23.803724Z",
     "shell.execute_reply": "2024-07-18T17:36:23.802696Z"
    },
    "papermill": {
     "duration": 0.188364,
     "end_time": "2024-07-18T17:36:23.806219",
     "exception": false,
     "start_time": "2024-07-18T17:36:23.617855",
     "status": "completed"
    },
    "tags": []
   },
   "outputs": [
    {
     "name": "stdout",
     "output_type": "stream",
     "text": [
      "Accuracy: 0.8958333333333334\n"
     ]
    }
   ],
   "source": [
    "# Import necessary libraries\n",
    "from sklearn.model_selection import train_test_split\n",
    "from sklearn.svm import SVC\n",
    "from sklearn.metrics import accuracy_score\n",
    "from sklearn.impute import SimpleImputer\n",
    "\n",
    "\n",
    "# Define your feature set for the SVM model\n",
    "features = ['Open','RSI','EMA','Close','Price Change','SMA_Open']\n",
    "\n",
    "# Split the dataset into features and target variable (X and y)\n",
    "X = train2[features]\n",
    "y = train2['Strategy']\n",
    "\n",
    "# Split the data into training and testing sets\n",
    "X_train, X_test, y_train, y_test = train_test_split(X, y, test_size=0.2, random_state=42)\n",
    "# Handle missing values by imputing with the mean\n",
    "imputer = SimpleImputer(strategy='mean')\n",
    "X_train = imputer.fit_transform(X_train)\n",
    "X_test = imputer.transform(X_test)\n",
    "# Create an SVM classifier\n",
    "svm_classifier = SVC(kernel='linear', C=0.1, gamma='scale', random_state=42)\n",
    "\n",
    "# Train the SVM classifier\n",
    "svm_classifier.fit(X_train, y_train)\n",
    "\n",
    "# Make predictions on the test set\n",
    "y_pred = svm_classifier.predict(X_test)\n",
    "\n",
    "# Calculate accuracy to evaluate the model's performance\n",
    "accuracy = accuracy_score(y_test, y_pred)\n",
    "print(\"Accuracy:\", accuracy)"
   ]
  },
  {
   "cell_type": "markdown",
   "id": "e9267373",
   "metadata": {
    "papermill": {
     "duration": 0.021207,
     "end_time": "2024-07-18T17:36:23.848600",
     "exception": false,
     "start_time": "2024-07-18T17:36:23.827393",
     "status": "completed"
    },
    "tags": []
   },
   "source": [
    "Feature Selection:\n",
    "We choose relevant features ('Open', 'RSI', 'EMA', 'Close', 'Price Change', 'SMA_Open') for SVM classification.\n",
    "\n",
    "Data Splitting:\n",
    "The dataset is divided into features (X) and target variable (y).\n",
    "We perform an 80/20 train-test split for model evaluation.\n",
    "\n",
    "Data Preprocessing:\n",
    "Missing values are handled by imputing them with the mean using SimpleImputer.\n",
    "\n",
    "Model Selection:\n",
    "We employ a Support Vector Machine (SVM) classifier with a linear kernel.\n",
    "\n",
    "Model Training:\n",
    "The SVM classifier is trained on the training data.\n",
    "In the provided SVM model, the hyperparameters, including the choice of a linear kernel (kernel='linear'), regularization parameter (C=0.1), and gamma parameter (gamma='scale'), have been set.  hyperparameter tuning involves systematically searching for the best hyperparameter values to enhance the model's accuracy and effectiveness.\n",
    "\n",
    "For this specific model, prior experimentation and hyperparameter tuning were performed to arrive at these specific values. Techniques such as grid search have been employed to explore various hyperparameter combinations and assess their impact on model performance. The ultimate goal of hyperparameter tuning is to select the most suitable settings for your model based on performance metrics relevant to our problem.\n",
    "\n",
    "Prediction:\n",
    "The model is used to make predictions on the test set.\n",
    "\n",
    "Evaluation:\n",
    "Accuracy is calculated to assess the model's classification performance.\n",
    "This approach combines feature selection, data splitting, data preprocessing, SVM model selection, training, prediction, and evaluation for classifying stock trading strategies."
   ]
  },
  {
   "cell_type": "code",
   "execution_count": 22,
   "id": "fe334fe3",
   "metadata": {
    "execution": {
     "iopub.execute_input": "2024-07-18T17:36:23.892452Z",
     "iopub.status.busy": "2024-07-18T17:36:23.891998Z",
     "iopub.status.idle": "2024-07-18T17:36:23.902538Z",
     "shell.execute_reply": "2024-07-18T17:36:23.901380Z"
    },
    "papermill": {
     "duration": 0.035373,
     "end_time": "2024-07-18T17:36:23.905021",
     "exception": false,
     "start_time": "2024-07-18T17:36:23.869648",
     "status": "completed"
    },
    "tags": []
   },
   "outputs": [
    {
     "data": {
      "text/html": [
       "<div>\n",
       "<style scoped>\n",
       "    .dataframe tbody tr th:only-of-type {\n",
       "        vertical-align: middle;\n",
       "    }\n",
       "\n",
       "    .dataframe tbody tr th {\n",
       "        vertical-align: top;\n",
       "    }\n",
       "\n",
       "    .dataframe thead th {\n",
       "        text-align: right;\n",
       "    }\n",
       "</style>\n",
       "<table border=\"1\" class=\"dataframe\">\n",
       "  <thead>\n",
       "    <tr style=\"text-align: right;\">\n",
       "      <th></th>\n",
       "      <th>Date</th>\n",
       "    </tr>\n",
       "    <tr>\n",
       "      <th>id</th>\n",
       "      <th></th>\n",
       "    </tr>\n",
       "  </thead>\n",
       "  <tbody>\n",
       "    <tr>\n",
       "      <th>0</th>\n",
       "      <td>2021-03-01</td>\n",
       "    </tr>\n",
       "    <tr>\n",
       "      <th>1</th>\n",
       "      <td>2021-03-08</td>\n",
       "    </tr>\n",
       "    <tr>\n",
       "      <th>2</th>\n",
       "      <td>2021-03-15</td>\n",
       "    </tr>\n",
       "    <tr>\n",
       "      <th>3</th>\n",
       "      <td>2021-03-22</td>\n",
       "    </tr>\n",
       "    <tr>\n",
       "      <th>4</th>\n",
       "      <td>2021-03-29</td>\n",
       "    </tr>\n",
       "  </tbody>\n",
       "</table>\n",
       "</div>"
      ],
      "text/plain": [
       "          Date\n",
       "id            \n",
       "0   2021-03-01\n",
       "1   2021-03-08\n",
       "2   2021-03-15\n",
       "3   2021-03-22\n",
       "4   2021-03-29"
      ]
     },
     "execution_count": 22,
     "metadata": {},
     "output_type": "execute_result"
    }
   ],
   "source": [
    "submission.head()"
   ]
  },
  {
   "cell_type": "code",
   "execution_count": 23,
   "id": "5c60e8e8",
   "metadata": {
    "execution": {
     "iopub.execute_input": "2024-07-18T17:36:23.949976Z",
     "iopub.status.busy": "2024-07-18T17:36:23.949042Z",
     "iopub.status.idle": "2024-07-18T17:36:23.954256Z",
     "shell.execute_reply": "2024-07-18T17:36:23.953157Z"
    },
    "papermill": {
     "duration": 0.030198,
     "end_time": "2024-07-18T17:36:23.956526",
     "exception": false,
     "start_time": "2024-07-18T17:36:23.926328",
     "status": "completed"
    },
    "tags": []
   },
   "outputs": [],
   "source": [
    "#sample_submission = pd.read_csv('/kaggle/input/ue21cs342aa2/sample_submission.csv', index_col = 0)"
   ]
  },
  {
   "cell_type": "code",
   "execution_count": 24,
   "id": "fa6cb454",
   "metadata": {
    "execution": {
     "iopub.execute_input": "2024-07-18T17:36:24.001356Z",
     "iopub.status.busy": "2024-07-18T17:36:24.000449Z",
     "iopub.status.idle": "2024-07-18T17:36:24.005306Z",
     "shell.execute_reply": "2024-07-18T17:36:24.004185Z"
    },
    "papermill": {
     "duration": 0.029718,
     "end_time": "2024-07-18T17:36:24.007581",
     "exception": false,
     "start_time": "2024-07-18T17:36:23.977863",
     "status": "completed"
    },
    "tags": []
   },
   "outputs": [],
   "source": [
    "#submission[\"Close\"] = sample_submission[\"Close\"]\n",
    "#submission[\"Strategy\"] = sample_submission[\"Strategy\"]"
   ]
  },
  {
   "cell_type": "markdown",
   "id": "3a271fef",
   "metadata": {
    "papermill": {
     "duration": 0.021084,
     "end_time": "2024-07-18T17:36:24.050716",
     "exception": false,
     "start_time": "2024-07-18T17:36:24.029632",
     "status": "completed"
    },
    "tags": []
   },
   "source": [
    "### In the cell above, we have just provided an example of how to create your submission DataFrame. Please make sure to use **your own forecasts and predictions**, in place of `sample_submission[\"Close\"]` and `sample_submission[\"Strategy\"]`"
   ]
  },
  {
   "cell_type": "code",
   "execution_count": 25,
   "id": "08ff2281",
   "metadata": {
    "execution": {
     "iopub.execute_input": "2024-07-18T17:36:24.095680Z",
     "iopub.status.busy": "2024-07-18T17:36:24.095254Z",
     "iopub.status.idle": "2024-07-18T17:36:24.103915Z",
     "shell.execute_reply": "2024-07-18T17:36:24.102830Z"
    },
    "papermill": {
     "duration": 0.033756,
     "end_time": "2024-07-18T17:36:24.106372",
     "exception": false,
     "start_time": "2024-07-18T17:36:24.072616",
     "status": "completed"
    },
    "tags": []
   },
   "outputs": [],
   "source": [
    "submission.to_csv('submission.csv', index=True)"
   ]
  },
  {
   "cell_type": "code",
   "execution_count": 26,
   "id": "39302ef2",
   "metadata": {
    "execution": {
     "iopub.execute_input": "2024-07-18T17:36:24.151498Z",
     "iopub.status.busy": "2024-07-18T17:36:24.150741Z",
     "iopub.status.idle": "2024-07-18T17:36:24.165677Z",
     "shell.execute_reply": "2024-07-18T17:36:24.164567Z"
    },
    "papermill": {
     "duration": 0.040044,
     "end_time": "2024-07-18T17:36:24.168210",
     "exception": false,
     "start_time": "2024-07-18T17:36:24.128166",
     "status": "completed"
    },
    "tags": []
   },
   "outputs": [
    {
     "data": {
      "text/html": [
       "<div>\n",
       "<style scoped>\n",
       "    .dataframe tbody tr th:only-of-type {\n",
       "        vertical-align: middle;\n",
       "    }\n",
       "\n",
       "    .dataframe tbody tr th {\n",
       "        vertical-align: top;\n",
       "    }\n",
       "\n",
       "    .dataframe thead th {\n",
       "        text-align: right;\n",
       "    }\n",
       "</style>\n",
       "<table border=\"1\" class=\"dataframe\">\n",
       "  <thead>\n",
       "    <tr style=\"text-align: right;\">\n",
       "      <th></th>\n",
       "      <th>Date</th>\n",
       "      <th>Open</th>\n",
       "      <th>Volume</th>\n",
       "    </tr>\n",
       "    <tr>\n",
       "      <th>id</th>\n",
       "      <th></th>\n",
       "      <th></th>\n",
       "      <th></th>\n",
       "    </tr>\n",
       "  </thead>\n",
       "  <tbody>\n",
       "    <tr>\n",
       "      <th>0</th>\n",
       "      <td>2021-03-01</td>\n",
       "      <td>72.708331</td>\n",
       "      <td>205897600</td>\n",
       "    </tr>\n",
       "    <tr>\n",
       "      <th>1</th>\n",
       "      <td>2021-03-08</td>\n",
       "      <td>73.310886</td>\n",
       "      <td>214095600</td>\n",
       "    </tr>\n",
       "    <tr>\n",
       "      <th>2</th>\n",
       "      <td>2021-03-15</td>\n",
       "      <td>70.610119</td>\n",
       "      <td>151601700</td>\n",
       "    </tr>\n",
       "    <tr>\n",
       "      <th>3</th>\n",
       "      <td>2021-03-22</td>\n",
       "      <td>70.256017</td>\n",
       "      <td>193982500</td>\n",
       "    </tr>\n",
       "    <tr>\n",
       "      <th>4</th>\n",
       "      <td>2021-03-29</td>\n",
       "      <td>68.258324</td>\n",
       "      <td>220238400</td>\n",
       "    </tr>\n",
       "    <tr>\n",
       "      <th>...</th>\n",
       "      <td>...</td>\n",
       "      <td>...</td>\n",
       "      <td>...</td>\n",
       "    </tr>\n",
       "    <tr>\n",
       "      <th>95</th>\n",
       "      <td>2022-12-26</td>\n",
       "      <td>57.048622</td>\n",
       "      <td>224994700</td>\n",
       "    </tr>\n",
       "    <tr>\n",
       "      <th>96</th>\n",
       "      <td>2023-01-02</td>\n",
       "      <td>60.569661</td>\n",
       "      <td>176020500</td>\n",
       "    </tr>\n",
       "    <tr>\n",
       "      <th>97</th>\n",
       "      <td>2023-01-09</td>\n",
       "      <td>61.446777</td>\n",
       "      <td>181478600</td>\n",
       "    </tr>\n",
       "    <tr>\n",
       "      <th>98</th>\n",
       "      <td>2023-01-16</td>\n",
       "      <td>55.447711</td>\n",
       "      <td>162471700</td>\n",
       "    </tr>\n",
       "    <tr>\n",
       "      <th>99</th>\n",
       "      <td>2023-01-23</td>\n",
       "      <td>57.008939</td>\n",
       "      <td>178924000</td>\n",
       "    </tr>\n",
       "  </tbody>\n",
       "</table>\n",
       "<p>100 rows × 3 columns</p>\n",
       "</div>"
      ],
      "text/plain": [
       "          Date       Open     Volume\n",
       "id                                  \n",
       "0   2021-03-01  72.708331  205897600\n",
       "1   2021-03-08  73.310886  214095600\n",
       "2   2021-03-15  70.610119  151601700\n",
       "3   2021-03-22  70.256017  193982500\n",
       "4   2021-03-29  68.258324  220238400\n",
       "..         ...        ...        ...\n",
       "95  2022-12-26  57.048622  224994700\n",
       "96  2023-01-02  60.569661  176020500\n",
       "97  2023-01-09  61.446777  181478600\n",
       "98  2023-01-16  55.447711  162471700\n",
       "99  2023-01-23  57.008939  178924000\n",
       "\n",
       "[100 rows x 3 columns]"
      ]
     },
     "execution_count": 26,
     "metadata": {},
     "output_type": "execute_result"
    }
   ],
   "source": [
    "test"
   ]
  },
  {
   "cell_type": "code",
   "execution_count": 27,
   "id": "27038401",
   "metadata": {
    "execution": {
     "iopub.execute_input": "2024-07-18T17:36:24.214059Z",
     "iopub.status.busy": "2024-07-18T17:36:24.213054Z",
     "iopub.status.idle": "2024-07-18T17:36:24.220228Z",
     "shell.execute_reply": "2024-07-18T17:36:24.219191Z"
    },
    "papermill": {
     "duration": 0.032854,
     "end_time": "2024-07-18T17:36:24.222720",
     "exception": false,
     "start_time": "2024-07-18T17:36:24.189866",
     "status": "completed"
    },
    "tags": []
   },
   "outputs": [],
   "source": [
    "test['SMA_Open'] = test['Open'].rolling(window=7).mean()"
   ]
  },
  {
   "cell_type": "code",
   "execution_count": 28,
   "id": "523d1ab4",
   "metadata": {
    "execution": {
     "iopub.execute_input": "2024-07-18T17:36:24.267931Z",
     "iopub.status.busy": "2024-07-18T17:36:24.267488Z",
     "iopub.status.idle": "2024-07-18T17:36:24.284667Z",
     "shell.execute_reply": "2024-07-18T17:36:24.283540Z"
    },
    "papermill": {
     "duration": 0.042608,
     "end_time": "2024-07-18T17:36:24.287097",
     "exception": false,
     "start_time": "2024-07-18T17:36:24.244489",
     "status": "completed"
    },
    "tags": []
   },
   "outputs": [
    {
     "data": {
      "text/html": [
       "<div>\n",
       "<style scoped>\n",
       "    .dataframe tbody tr th:only-of-type {\n",
       "        vertical-align: middle;\n",
       "    }\n",
       "\n",
       "    .dataframe tbody tr th {\n",
       "        vertical-align: top;\n",
       "    }\n",
       "\n",
       "    .dataframe thead th {\n",
       "        text-align: right;\n",
       "    }\n",
       "</style>\n",
       "<table border=\"1\" class=\"dataframe\">\n",
       "  <thead>\n",
       "    <tr style=\"text-align: right;\">\n",
       "      <th></th>\n",
       "      <th>Date</th>\n",
       "      <th>Open</th>\n",
       "      <th>Volume</th>\n",
       "      <th>SMA_Open</th>\n",
       "    </tr>\n",
       "    <tr>\n",
       "      <th>id</th>\n",
       "      <th></th>\n",
       "      <th></th>\n",
       "      <th></th>\n",
       "      <th></th>\n",
       "    </tr>\n",
       "  </thead>\n",
       "  <tbody>\n",
       "    <tr>\n",
       "      <th>0</th>\n",
       "      <td>2021-03-01</td>\n",
       "      <td>72.708331</td>\n",
       "      <td>205897600</td>\n",
       "      <td>0.000000</td>\n",
       "    </tr>\n",
       "    <tr>\n",
       "      <th>1</th>\n",
       "      <td>2021-03-08</td>\n",
       "      <td>73.310886</td>\n",
       "      <td>214095600</td>\n",
       "      <td>0.000000</td>\n",
       "    </tr>\n",
       "    <tr>\n",
       "      <th>2</th>\n",
       "      <td>2021-03-15</td>\n",
       "      <td>70.610119</td>\n",
       "      <td>151601700</td>\n",
       "      <td>0.000000</td>\n",
       "    </tr>\n",
       "    <tr>\n",
       "      <th>3</th>\n",
       "      <td>2021-03-22</td>\n",
       "      <td>70.256017</td>\n",
       "      <td>193982500</td>\n",
       "      <td>0.000000</td>\n",
       "    </tr>\n",
       "    <tr>\n",
       "      <th>4</th>\n",
       "      <td>2021-03-29</td>\n",
       "      <td>68.258324</td>\n",
       "      <td>220238400</td>\n",
       "      <td>0.000000</td>\n",
       "    </tr>\n",
       "    <tr>\n",
       "      <th>...</th>\n",
       "      <td>...</td>\n",
       "      <td>...</td>\n",
       "      <td>...</td>\n",
       "      <td>...</td>\n",
       "    </tr>\n",
       "    <tr>\n",
       "      <th>95</th>\n",
       "      <td>2022-12-26</td>\n",
       "      <td>57.048622</td>\n",
       "      <td>224994700</td>\n",
       "      <td>57.154470</td>\n",
       "    </tr>\n",
       "    <tr>\n",
       "      <th>96</th>\n",
       "      <td>2023-01-02</td>\n",
       "      <td>60.569661</td>\n",
       "      <td>176020500</td>\n",
       "      <td>58.375953</td>\n",
       "    </tr>\n",
       "    <tr>\n",
       "      <th>97</th>\n",
       "      <td>2023-01-09</td>\n",
       "      <td>61.446777</td>\n",
       "      <td>181478600</td>\n",
       "      <td>58.580299</td>\n",
       "    </tr>\n",
       "    <tr>\n",
       "      <th>98</th>\n",
       "      <td>2023-01-16</td>\n",
       "      <td>55.447711</td>\n",
       "      <td>162471700</td>\n",
       "      <td>58.220398</td>\n",
       "    </tr>\n",
       "    <tr>\n",
       "      <th>99</th>\n",
       "      <td>2023-01-23</td>\n",
       "      <td>57.008939</td>\n",
       "      <td>178924000</td>\n",
       "      <td>57.874794</td>\n",
       "    </tr>\n",
       "  </tbody>\n",
       "</table>\n",
       "<p>100 rows × 4 columns</p>\n",
       "</div>"
      ],
      "text/plain": [
       "          Date       Open     Volume   SMA_Open\n",
       "id                                             \n",
       "0   2021-03-01  72.708331  205897600   0.000000\n",
       "1   2021-03-08  73.310886  214095600   0.000000\n",
       "2   2021-03-15  70.610119  151601700   0.000000\n",
       "3   2021-03-22  70.256017  193982500   0.000000\n",
       "4   2021-03-29  68.258324  220238400   0.000000\n",
       "..         ...        ...        ...        ...\n",
       "95  2022-12-26  57.048622  224994700  57.154470\n",
       "96  2023-01-02  60.569661  176020500  58.375953\n",
       "97  2023-01-09  61.446777  181478600  58.580299\n",
       "98  2023-01-16  55.447711  162471700  58.220398\n",
       "99  2023-01-23  57.008939  178924000  57.874794\n",
       "\n",
       "[100 rows x 4 columns]"
      ]
     },
     "execution_count": 28,
     "metadata": {},
     "output_type": "execute_result"
    }
   ],
   "source": [
    "test['SMA_Open'].fillna(0, inplace=True)\n",
    "test"
   ]
  },
  {
   "cell_type": "code",
   "execution_count": 29,
   "id": "e7a621ed",
   "metadata": {
    "execution": {
     "iopub.execute_input": "2024-07-18T17:36:24.333246Z",
     "iopub.status.busy": "2024-07-18T17:36:24.332794Z",
     "iopub.status.idle": "2024-07-18T17:36:24.338728Z",
     "shell.execute_reply": "2024-07-18T17:36:24.337625Z"
    },
    "papermill": {
     "duration": 0.032077,
     "end_time": "2024-07-18T17:36:24.341302",
     "exception": false,
     "start_time": "2024-07-18T17:36:24.309225",
     "status": "completed"
    },
    "tags": []
   },
   "outputs": [],
   "source": [
    "test_1 = test.copy()"
   ]
  },
  {
   "cell_type": "code",
   "execution_count": 30,
   "id": "78fc1f04",
   "metadata": {
    "execution": {
     "iopub.execute_input": "2024-07-18T17:36:24.387702Z",
     "iopub.status.busy": "2024-07-18T17:36:24.386777Z",
     "iopub.status.idle": "2024-07-18T17:36:24.396462Z",
     "shell.execute_reply": "2024-07-18T17:36:24.395357Z"
    },
    "papermill": {
     "duration": 0.035601,
     "end_time": "2024-07-18T17:36:24.398938",
     "exception": false,
     "start_time": "2024-07-18T17:36:24.363337",
     "status": "completed"
    },
    "tags": []
   },
   "outputs": [],
   "source": [
    "new_exog = test_1[['Open', 'SMA_Open', 'Volume']]\n",
    "predict = results.predict(start = 0,end = len(test_1)-1,exog = new_exog)\n",
    "test_1['Close'] = predict.values"
   ]
  },
  {
   "cell_type": "code",
   "execution_count": 31,
   "id": "bc900218",
   "metadata": {
    "execution": {
     "iopub.execute_input": "2024-07-18T17:36:24.445250Z",
     "iopub.status.busy": "2024-07-18T17:36:24.444398Z",
     "iopub.status.idle": "2024-07-18T17:36:24.450829Z",
     "shell.execute_reply": "2024-07-18T17:36:24.449689Z"
    },
    "papermill": {
     "duration": 0.032502,
     "end_time": "2024-07-18T17:36:24.453477",
     "exception": false,
     "start_time": "2024-07-18T17:36:24.420975",
     "status": "completed"
    },
    "tags": []
   },
   "outputs": [],
   "source": [
    "test_1['Price Change'] = test_1['Close'].diff()"
   ]
  },
  {
   "cell_type": "code",
   "execution_count": 32,
   "id": "1277cb5b",
   "metadata": {
    "execution": {
     "iopub.execute_input": "2024-07-18T17:36:24.499756Z",
     "iopub.status.busy": "2024-07-18T17:36:24.499333Z",
     "iopub.status.idle": "2024-07-18T17:36:24.519499Z",
     "shell.execute_reply": "2024-07-18T17:36:24.518336Z"
    },
    "papermill": {
     "duration": 0.0465,
     "end_time": "2024-07-18T17:36:24.522081",
     "exception": false,
     "start_time": "2024-07-18T17:36:24.475581",
     "status": "completed"
    },
    "tags": []
   },
   "outputs": [
    {
     "data": {
      "text/html": [
       "<div>\n",
       "<style scoped>\n",
       "    .dataframe tbody tr th:only-of-type {\n",
       "        vertical-align: middle;\n",
       "    }\n",
       "\n",
       "    .dataframe tbody tr th {\n",
       "        vertical-align: top;\n",
       "    }\n",
       "\n",
       "    .dataframe thead th {\n",
       "        text-align: right;\n",
       "    }\n",
       "</style>\n",
       "<table border=\"1\" class=\"dataframe\">\n",
       "  <thead>\n",
       "    <tr style=\"text-align: right;\">\n",
       "      <th></th>\n",
       "      <th>Date</th>\n",
       "      <th>Open</th>\n",
       "      <th>Volume</th>\n",
       "      <th>SMA_Open</th>\n",
       "      <th>Close</th>\n",
       "      <th>Price Change</th>\n",
       "    </tr>\n",
       "    <tr>\n",
       "      <th>id</th>\n",
       "      <th></th>\n",
       "      <th></th>\n",
       "      <th></th>\n",
       "      <th></th>\n",
       "      <th></th>\n",
       "      <th></th>\n",
       "    </tr>\n",
       "  </thead>\n",
       "  <tbody>\n",
       "    <tr>\n",
       "      <th>0</th>\n",
       "      <td>2021-03-01</td>\n",
       "      <td>72.708331</td>\n",
       "      <td>205897600</td>\n",
       "      <td>0.000000</td>\n",
       "      <td>37.058445</td>\n",
       "      <td>0.000000</td>\n",
       "    </tr>\n",
       "    <tr>\n",
       "      <th>1</th>\n",
       "      <td>2021-03-08</td>\n",
       "      <td>73.310886</td>\n",
       "      <td>214095600</td>\n",
       "      <td>0.000000</td>\n",
       "      <td>75.834688</td>\n",
       "      <td>38.776243</td>\n",
       "    </tr>\n",
       "    <tr>\n",
       "      <th>2</th>\n",
       "      <td>2021-03-15</td>\n",
       "      <td>70.610119</td>\n",
       "      <td>151601700</td>\n",
       "      <td>0.000000</td>\n",
       "      <td>77.003067</td>\n",
       "      <td>1.168379</td>\n",
       "    </tr>\n",
       "    <tr>\n",
       "      <th>3</th>\n",
       "      <td>2021-03-22</td>\n",
       "      <td>70.256017</td>\n",
       "      <td>193982500</td>\n",
       "      <td>0.000000</td>\n",
       "      <td>70.017070</td>\n",
       "      <td>-6.985996</td>\n",
       "    </tr>\n",
       "    <tr>\n",
       "      <th>4</th>\n",
       "      <td>2021-03-29</td>\n",
       "      <td>68.258324</td>\n",
       "      <td>220238400</td>\n",
       "      <td>0.000000</td>\n",
       "      <td>74.170032</td>\n",
       "      <td>4.152962</td>\n",
       "    </tr>\n",
       "    <tr>\n",
       "      <th>...</th>\n",
       "      <td>...</td>\n",
       "      <td>...</td>\n",
       "      <td>...</td>\n",
       "      <td>...</td>\n",
       "      <td>...</td>\n",
       "      <td>...</td>\n",
       "    </tr>\n",
       "    <tr>\n",
       "      <th>95</th>\n",
       "      <td>2022-12-26</td>\n",
       "      <td>57.048622</td>\n",
       "      <td>224994700</td>\n",
       "      <td>57.154470</td>\n",
       "      <td>74.215925</td>\n",
       "      <td>2.013706</td>\n",
       "    </tr>\n",
       "    <tr>\n",
       "      <th>96</th>\n",
       "      <td>2023-01-02</td>\n",
       "      <td>60.569661</td>\n",
       "      <td>176020500</td>\n",
       "      <td>58.375953</td>\n",
       "      <td>71.945154</td>\n",
       "      <td>-2.270771</td>\n",
       "    </tr>\n",
       "    <tr>\n",
       "      <th>97</th>\n",
       "      <td>2023-01-09</td>\n",
       "      <td>61.446777</td>\n",
       "      <td>181478600</td>\n",
       "      <td>58.580299</td>\n",
       "      <td>77.215693</td>\n",
       "      <td>5.270540</td>\n",
       "    </tr>\n",
       "    <tr>\n",
       "      <th>98</th>\n",
       "      <td>2023-01-16</td>\n",
       "      <td>55.447711</td>\n",
       "      <td>162471700</td>\n",
       "      <td>58.220398</td>\n",
       "      <td>77.045279</td>\n",
       "      <td>-0.170414</td>\n",
       "    </tr>\n",
       "    <tr>\n",
       "      <th>99</th>\n",
       "      <td>2023-01-23</td>\n",
       "      <td>57.008939</td>\n",
       "      <td>178924000</td>\n",
       "      <td>57.874794</td>\n",
       "      <td>85.959324</td>\n",
       "      <td>8.914045</td>\n",
       "    </tr>\n",
       "  </tbody>\n",
       "</table>\n",
       "<p>100 rows × 6 columns</p>\n",
       "</div>"
      ],
      "text/plain": [
       "          Date       Open     Volume   SMA_Open      Close  Price Change\n",
       "id                                                                      \n",
       "0   2021-03-01  72.708331  205897600   0.000000  37.058445      0.000000\n",
       "1   2021-03-08  73.310886  214095600   0.000000  75.834688     38.776243\n",
       "2   2021-03-15  70.610119  151601700   0.000000  77.003067      1.168379\n",
       "3   2021-03-22  70.256017  193982500   0.000000  70.017070     -6.985996\n",
       "4   2021-03-29  68.258324  220238400   0.000000  74.170032      4.152962\n",
       "..         ...        ...        ...        ...        ...           ...\n",
       "95  2022-12-26  57.048622  224994700  57.154470  74.215925      2.013706\n",
       "96  2023-01-02  60.569661  176020500  58.375953  71.945154     -2.270771\n",
       "97  2023-01-09  61.446777  181478600  58.580299  77.215693      5.270540\n",
       "98  2023-01-16  55.447711  162471700  58.220398  77.045279     -0.170414\n",
       "99  2023-01-23  57.008939  178924000  57.874794  85.959324      8.914045\n",
       "\n",
       "[100 rows x 6 columns]"
      ]
     },
     "execution_count": 32,
     "metadata": {},
     "output_type": "execute_result"
    }
   ],
   "source": [
    "test_1['Price Change'].fillna(0, inplace=True)\n",
    "test_1"
   ]
  },
  {
   "cell_type": "code",
   "execution_count": 33,
   "id": "aea67500",
   "metadata": {
    "execution": {
     "iopub.execute_input": "2024-07-18T17:36:24.568711Z",
     "iopub.status.busy": "2024-07-18T17:36:24.568263Z",
     "iopub.status.idle": "2024-07-18T17:36:24.598195Z",
     "shell.execute_reply": "2024-07-18T17:36:24.597048Z"
    },
    "papermill": {
     "duration": 0.056218,
     "end_time": "2024-07-18T17:36:24.600767",
     "exception": false,
     "start_time": "2024-07-18T17:36:24.544549",
     "status": "completed"
    },
    "tags": []
   },
   "outputs": [
    {
     "data": {
      "text/html": [
       "<div>\n",
       "<style scoped>\n",
       "    .dataframe tbody tr th:only-of-type {\n",
       "        vertical-align: middle;\n",
       "    }\n",
       "\n",
       "    .dataframe tbody tr th {\n",
       "        vertical-align: top;\n",
       "    }\n",
       "\n",
       "    .dataframe thead th {\n",
       "        text-align: right;\n",
       "    }\n",
       "</style>\n",
       "<table border=\"1\" class=\"dataframe\">\n",
       "  <thead>\n",
       "    <tr style=\"text-align: right;\">\n",
       "      <th></th>\n",
       "      <th>Date</th>\n",
       "      <th>Open</th>\n",
       "      <th>Volume</th>\n",
       "      <th>SMA_Open</th>\n",
       "      <th>Close</th>\n",
       "      <th>Price Change</th>\n",
       "      <th>RSI</th>\n",
       "    </tr>\n",
       "    <tr>\n",
       "      <th>id</th>\n",
       "      <th></th>\n",
       "      <th></th>\n",
       "      <th></th>\n",
       "      <th></th>\n",
       "      <th></th>\n",
       "      <th></th>\n",
       "      <th></th>\n",
       "    </tr>\n",
       "  </thead>\n",
       "  <tbody>\n",
       "    <tr>\n",
       "      <th>0</th>\n",
       "      <td>2021-03-01</td>\n",
       "      <td>72.708331</td>\n",
       "      <td>205897600</td>\n",
       "      <td>0.000000</td>\n",
       "      <td>37.058445</td>\n",
       "      <td>0.000000</td>\n",
       "      <td>NaN</td>\n",
       "    </tr>\n",
       "    <tr>\n",
       "      <th>1</th>\n",
       "      <td>2021-03-08</td>\n",
       "      <td>73.310886</td>\n",
       "      <td>214095600</td>\n",
       "      <td>0.000000</td>\n",
       "      <td>75.834688</td>\n",
       "      <td>38.776243</td>\n",
       "      <td>NaN</td>\n",
       "    </tr>\n",
       "    <tr>\n",
       "      <th>2</th>\n",
       "      <td>2021-03-15</td>\n",
       "      <td>70.610119</td>\n",
       "      <td>151601700</td>\n",
       "      <td>0.000000</td>\n",
       "      <td>77.003067</td>\n",
       "      <td>1.168379</td>\n",
       "      <td>NaN</td>\n",
       "    </tr>\n",
       "    <tr>\n",
       "      <th>3</th>\n",
       "      <td>2021-03-22</td>\n",
       "      <td>70.256017</td>\n",
       "      <td>193982500</td>\n",
       "      <td>0.000000</td>\n",
       "      <td>70.017070</td>\n",
       "      <td>-6.985996</td>\n",
       "      <td>NaN</td>\n",
       "    </tr>\n",
       "    <tr>\n",
       "      <th>4</th>\n",
       "      <td>2021-03-29</td>\n",
       "      <td>68.258324</td>\n",
       "      <td>220238400</td>\n",
       "      <td>0.000000</td>\n",
       "      <td>74.170032</td>\n",
       "      <td>4.152962</td>\n",
       "      <td>NaN</td>\n",
       "    </tr>\n",
       "    <tr>\n",
       "      <th>...</th>\n",
       "      <td>...</td>\n",
       "      <td>...</td>\n",
       "      <td>...</td>\n",
       "      <td>...</td>\n",
       "      <td>...</td>\n",
       "      <td>...</td>\n",
       "      <td>...</td>\n",
       "    </tr>\n",
       "    <tr>\n",
       "      <th>95</th>\n",
       "      <td>2022-12-26</td>\n",
       "      <td>57.048622</td>\n",
       "      <td>224994700</td>\n",
       "      <td>57.154470</td>\n",
       "      <td>74.215925</td>\n",
       "      <td>2.013706</td>\n",
       "      <td>43.570337</td>\n",
       "    </tr>\n",
       "    <tr>\n",
       "      <th>96</th>\n",
       "      <td>2023-01-02</td>\n",
       "      <td>60.569661</td>\n",
       "      <td>176020500</td>\n",
       "      <td>58.375953</td>\n",
       "      <td>71.945154</td>\n",
       "      <td>-2.270771</td>\n",
       "      <td>47.952099</td>\n",
       "    </tr>\n",
       "    <tr>\n",
       "      <th>97</th>\n",
       "      <td>2023-01-09</td>\n",
       "      <td>61.446777</td>\n",
       "      <td>181478600</td>\n",
       "      <td>58.580299</td>\n",
       "      <td>77.215693</td>\n",
       "      <td>5.270540</td>\n",
       "      <td>46.420534</td>\n",
       "    </tr>\n",
       "    <tr>\n",
       "      <th>98</th>\n",
       "      <td>2023-01-16</td>\n",
       "      <td>55.447711</td>\n",
       "      <td>162471700</td>\n",
       "      <td>58.220398</td>\n",
       "      <td>77.045279</td>\n",
       "      <td>-0.170414</td>\n",
       "      <td>58.315324</td>\n",
       "    </tr>\n",
       "    <tr>\n",
       "      <th>99</th>\n",
       "      <td>2023-01-23</td>\n",
       "      <td>57.008939</td>\n",
       "      <td>178924000</td>\n",
       "      <td>57.874794</td>\n",
       "      <td>85.959324</td>\n",
       "      <td>8.914045</td>\n",
       "      <td>67.627922</td>\n",
       "    </tr>\n",
       "  </tbody>\n",
       "</table>\n",
       "<p>100 rows × 7 columns</p>\n",
       "</div>"
      ],
      "text/plain": [
       "          Date       Open     Volume   SMA_Open      Close  Price Change  \\\n",
       "id                                                                         \n",
       "0   2021-03-01  72.708331  205897600   0.000000  37.058445      0.000000   \n",
       "1   2021-03-08  73.310886  214095600   0.000000  75.834688     38.776243   \n",
       "2   2021-03-15  70.610119  151601700   0.000000  77.003067      1.168379   \n",
       "3   2021-03-22  70.256017  193982500   0.000000  70.017070     -6.985996   \n",
       "4   2021-03-29  68.258324  220238400   0.000000  74.170032      4.152962   \n",
       "..         ...        ...        ...        ...        ...           ...   \n",
       "95  2022-12-26  57.048622  224994700  57.154470  74.215925      2.013706   \n",
       "96  2023-01-02  60.569661  176020500  58.375953  71.945154     -2.270771   \n",
       "97  2023-01-09  61.446777  181478600  58.580299  77.215693      5.270540   \n",
       "98  2023-01-16  55.447711  162471700  58.220398  77.045279     -0.170414   \n",
       "99  2023-01-23  57.008939  178924000  57.874794  85.959324      8.914045   \n",
       "\n",
       "          RSI  \n",
       "id             \n",
       "0         NaN  \n",
       "1         NaN  \n",
       "2         NaN  \n",
       "3         NaN  \n",
       "4         NaN  \n",
       "..        ...  \n",
       "95  43.570337  \n",
       "96  47.952099  \n",
       "97  46.420534  \n",
       "98  58.315324  \n",
       "99  67.627922  \n",
       "\n",
       "[100 rows x 7 columns]"
      ]
     },
     "execution_count": 33,
     "metadata": {},
     "output_type": "execute_result"
    }
   ],
   "source": [
    "# Calculate the positive and negative price changes\n",
    "test_1['Gain'] = test_1['Price Change'].apply(lambda x: x if x > 0 else 0)\n",
    "test_1['Loss'] = test_1['Price Change'].apply(lambda x: abs(x) if x < 0 else 0)\n",
    "\n",
    "# Calculate the average gain and average loss over a 14-day period\n",
    "average_gain = test_1['Gain'].rolling(window=14).mean()\n",
    "average_loss = test_1['Loss'].rolling(window=14).mean()\n",
    "\n",
    "# Calculate the Relative Strength (RS)\n",
    "rs = average_gain / average_loss\n",
    "\n",
    "# Calculate the RSI\n",
    "rsi = 100 - (100 / (1 + rs))\n",
    "\n",
    "test_1['RSI'] = rsi\n",
    "\n",
    "\n",
    "test_1.drop(columns = ['Gain', 'Loss'], axis = 1, inplace = True)\n",
    "test_1"
   ]
  },
  {
   "cell_type": "code",
   "execution_count": 34,
   "id": "addfcd2d",
   "metadata": {
    "execution": {
     "iopub.execute_input": "2024-07-18T17:36:24.649397Z",
     "iopub.status.busy": "2024-07-18T17:36:24.648600Z",
     "iopub.status.idle": "2024-07-18T17:36:24.670657Z",
     "shell.execute_reply": "2024-07-18T17:36:24.669612Z"
    },
    "papermill": {
     "duration": 0.049734,
     "end_time": "2024-07-18T17:36:24.673082",
     "exception": false,
     "start_time": "2024-07-18T17:36:24.623348",
     "status": "completed"
    },
    "tags": []
   },
   "outputs": [
    {
     "data": {
      "text/html": [
       "<div>\n",
       "<style scoped>\n",
       "    .dataframe tbody tr th:only-of-type {\n",
       "        vertical-align: middle;\n",
       "    }\n",
       "\n",
       "    .dataframe tbody tr th {\n",
       "        vertical-align: top;\n",
       "    }\n",
       "\n",
       "    .dataframe thead th {\n",
       "        text-align: right;\n",
       "    }\n",
       "</style>\n",
       "<table border=\"1\" class=\"dataframe\">\n",
       "  <thead>\n",
       "    <tr style=\"text-align: right;\">\n",
       "      <th></th>\n",
       "      <th>Date</th>\n",
       "      <th>Open</th>\n",
       "      <th>Volume</th>\n",
       "      <th>SMA_Open</th>\n",
       "      <th>Close</th>\n",
       "      <th>Price Change</th>\n",
       "      <th>RSI</th>\n",
       "    </tr>\n",
       "    <tr>\n",
       "      <th>id</th>\n",
       "      <th></th>\n",
       "      <th></th>\n",
       "      <th></th>\n",
       "      <th></th>\n",
       "      <th></th>\n",
       "      <th></th>\n",
       "      <th></th>\n",
       "    </tr>\n",
       "  </thead>\n",
       "  <tbody>\n",
       "    <tr>\n",
       "      <th>0</th>\n",
       "      <td>2021-03-01</td>\n",
       "      <td>72.708331</td>\n",
       "      <td>205897600</td>\n",
       "      <td>0.000000</td>\n",
       "      <td>37.058445</td>\n",
       "      <td>0.000000</td>\n",
       "      <td>50.294976</td>\n",
       "    </tr>\n",
       "    <tr>\n",
       "      <th>1</th>\n",
       "      <td>2021-03-08</td>\n",
       "      <td>73.310886</td>\n",
       "      <td>214095600</td>\n",
       "      <td>0.000000</td>\n",
       "      <td>75.834688</td>\n",
       "      <td>38.776243</td>\n",
       "      <td>50.294976</td>\n",
       "    </tr>\n",
       "    <tr>\n",
       "      <th>2</th>\n",
       "      <td>2021-03-15</td>\n",
       "      <td>70.610119</td>\n",
       "      <td>151601700</td>\n",
       "      <td>0.000000</td>\n",
       "      <td>77.003067</td>\n",
       "      <td>1.168379</td>\n",
       "      <td>50.294976</td>\n",
       "    </tr>\n",
       "    <tr>\n",
       "      <th>3</th>\n",
       "      <td>2021-03-22</td>\n",
       "      <td>70.256017</td>\n",
       "      <td>193982500</td>\n",
       "      <td>0.000000</td>\n",
       "      <td>70.017070</td>\n",
       "      <td>-6.985996</td>\n",
       "      <td>50.294976</td>\n",
       "    </tr>\n",
       "    <tr>\n",
       "      <th>4</th>\n",
       "      <td>2021-03-29</td>\n",
       "      <td>68.258324</td>\n",
       "      <td>220238400</td>\n",
       "      <td>0.000000</td>\n",
       "      <td>74.170032</td>\n",
       "      <td>4.152962</td>\n",
       "      <td>50.294976</td>\n",
       "    </tr>\n",
       "    <tr>\n",
       "      <th>...</th>\n",
       "      <td>...</td>\n",
       "      <td>...</td>\n",
       "      <td>...</td>\n",
       "      <td>...</td>\n",
       "      <td>...</td>\n",
       "      <td>...</td>\n",
       "      <td>...</td>\n",
       "    </tr>\n",
       "    <tr>\n",
       "      <th>95</th>\n",
       "      <td>2022-12-26</td>\n",
       "      <td>57.048622</td>\n",
       "      <td>224994700</td>\n",
       "      <td>57.154470</td>\n",
       "      <td>74.215925</td>\n",
       "      <td>2.013706</td>\n",
       "      <td>43.570337</td>\n",
       "    </tr>\n",
       "    <tr>\n",
       "      <th>96</th>\n",
       "      <td>2023-01-02</td>\n",
       "      <td>60.569661</td>\n",
       "      <td>176020500</td>\n",
       "      <td>58.375953</td>\n",
       "      <td>71.945154</td>\n",
       "      <td>-2.270771</td>\n",
       "      <td>47.952099</td>\n",
       "    </tr>\n",
       "    <tr>\n",
       "      <th>97</th>\n",
       "      <td>2023-01-09</td>\n",
       "      <td>61.446777</td>\n",
       "      <td>181478600</td>\n",
       "      <td>58.580299</td>\n",
       "      <td>77.215693</td>\n",
       "      <td>5.270540</td>\n",
       "      <td>46.420534</td>\n",
       "    </tr>\n",
       "    <tr>\n",
       "      <th>98</th>\n",
       "      <td>2023-01-16</td>\n",
       "      <td>55.447711</td>\n",
       "      <td>162471700</td>\n",
       "      <td>58.220398</td>\n",
       "      <td>77.045279</td>\n",
       "      <td>-0.170414</td>\n",
       "      <td>58.315324</td>\n",
       "    </tr>\n",
       "    <tr>\n",
       "      <th>99</th>\n",
       "      <td>2023-01-23</td>\n",
       "      <td>57.008939</td>\n",
       "      <td>178924000</td>\n",
       "      <td>57.874794</td>\n",
       "      <td>85.959324</td>\n",
       "      <td>8.914045</td>\n",
       "      <td>67.627922</td>\n",
       "    </tr>\n",
       "  </tbody>\n",
       "</table>\n",
       "<p>100 rows × 7 columns</p>\n",
       "</div>"
      ],
      "text/plain": [
       "          Date       Open     Volume   SMA_Open      Close  Price Change  \\\n",
       "id                                                                         \n",
       "0   2021-03-01  72.708331  205897600   0.000000  37.058445      0.000000   \n",
       "1   2021-03-08  73.310886  214095600   0.000000  75.834688     38.776243   \n",
       "2   2021-03-15  70.610119  151601700   0.000000  77.003067      1.168379   \n",
       "3   2021-03-22  70.256017  193982500   0.000000  70.017070     -6.985996   \n",
       "4   2021-03-29  68.258324  220238400   0.000000  74.170032      4.152962   \n",
       "..         ...        ...        ...        ...        ...           ...   \n",
       "95  2022-12-26  57.048622  224994700  57.154470  74.215925      2.013706   \n",
       "96  2023-01-02  60.569661  176020500  58.375953  71.945154     -2.270771   \n",
       "97  2023-01-09  61.446777  181478600  58.580299  77.215693      5.270540   \n",
       "98  2023-01-16  55.447711  162471700  58.220398  77.045279     -0.170414   \n",
       "99  2023-01-23  57.008939  178924000  57.874794  85.959324      8.914045   \n",
       "\n",
       "          RSI  \n",
       "id             \n",
       "0   50.294976  \n",
       "1   50.294976  \n",
       "2   50.294976  \n",
       "3   50.294976  \n",
       "4   50.294976  \n",
       "..        ...  \n",
       "95  43.570337  \n",
       "96  47.952099  \n",
       "97  46.420534  \n",
       "98  58.315324  \n",
       "99  67.627922  \n",
       "\n",
       "[100 rows x 7 columns]"
      ]
     },
     "execution_count": 34,
     "metadata": {},
     "output_type": "execute_result"
    }
   ],
   "source": [
    "test_1['RSI'].fillna(train['RSI'].mean(), inplace=True)\n",
    "test_1"
   ]
  },
  {
   "cell_type": "code",
   "execution_count": 35,
   "id": "fa66d3ad",
   "metadata": {
    "execution": {
     "iopub.execute_input": "2024-07-18T17:36:24.720964Z",
     "iopub.status.busy": "2024-07-18T17:36:24.720550Z",
     "iopub.status.idle": "2024-07-18T17:36:24.727543Z",
     "shell.execute_reply": "2024-07-18T17:36:24.726441Z"
    },
    "papermill": {
     "duration": 0.033719,
     "end_time": "2024-07-18T17:36:24.730071",
     "exception": false,
     "start_time": "2024-07-18T17:36:24.696352",
     "status": "completed"
    },
    "tags": []
   },
   "outputs": [],
   "source": [
    "ema_window = 20  # Adjust the window size as needed\n",
    "test_1['EMA'] = test_1['Close'].ewm(span=ema_window, adjust=False).mean()"
   ]
  },
  {
   "cell_type": "code",
   "execution_count": 36,
   "id": "64babfbf",
   "metadata": {
    "execution": {
     "iopub.execute_input": "2024-07-18T17:36:24.778352Z",
     "iopub.status.busy": "2024-07-18T17:36:24.777913Z",
     "iopub.status.idle": "2024-07-18T17:36:24.785087Z",
     "shell.execute_reply": "2024-07-18T17:36:24.784075Z"
    },
    "papermill": {
     "duration": 0.034248,
     "end_time": "2024-07-18T17:36:24.787530",
     "exception": false,
     "start_time": "2024-07-18T17:36:24.753282",
     "status": "completed"
    },
    "tags": []
   },
   "outputs": [],
   "source": [
    "test_1['Open_Diff'] = test_1['Open'].diff()\n",
    "test_1['Open_Diff'].fillna(0, inplace=True)"
   ]
  },
  {
   "cell_type": "code",
   "execution_count": 37,
   "id": "9cedc882",
   "metadata": {
    "execution": {
     "iopub.execute_input": "2024-07-18T17:36:24.836012Z",
     "iopub.status.busy": "2024-07-18T17:36:24.835039Z",
     "iopub.status.idle": "2024-07-18T17:36:24.856528Z",
     "shell.execute_reply": "2024-07-18T17:36:24.855448Z"
    },
    "papermill": {
     "duration": 0.048236,
     "end_time": "2024-07-18T17:36:24.858837",
     "exception": false,
     "start_time": "2024-07-18T17:36:24.810601",
     "status": "completed"
    },
    "tags": []
   },
   "outputs": [
    {
     "data": {
      "text/html": [
       "<div>\n",
       "<style scoped>\n",
       "    .dataframe tbody tr th:only-of-type {\n",
       "        vertical-align: middle;\n",
       "    }\n",
       "\n",
       "    .dataframe tbody tr th {\n",
       "        vertical-align: top;\n",
       "    }\n",
       "\n",
       "    .dataframe thead th {\n",
       "        text-align: right;\n",
       "    }\n",
       "</style>\n",
       "<table border=\"1\" class=\"dataframe\">\n",
       "  <thead>\n",
       "    <tr style=\"text-align: right;\">\n",
       "      <th></th>\n",
       "      <th>Date</th>\n",
       "      <th>Open</th>\n",
       "      <th>Volume</th>\n",
       "      <th>SMA_Open</th>\n",
       "      <th>Close</th>\n",
       "      <th>Price Change</th>\n",
       "      <th>RSI</th>\n",
       "      <th>EMA</th>\n",
       "      <th>Open_Diff</th>\n",
       "    </tr>\n",
       "    <tr>\n",
       "      <th>id</th>\n",
       "      <th></th>\n",
       "      <th></th>\n",
       "      <th></th>\n",
       "      <th></th>\n",
       "      <th></th>\n",
       "      <th></th>\n",
       "      <th></th>\n",
       "      <th></th>\n",
       "      <th></th>\n",
       "    </tr>\n",
       "  </thead>\n",
       "  <tbody>\n",
       "    <tr>\n",
       "      <th>0</th>\n",
       "      <td>2021-03-01</td>\n",
       "      <td>72.708331</td>\n",
       "      <td>205897600</td>\n",
       "      <td>0.000000</td>\n",
       "      <td>37.058445</td>\n",
       "      <td>0.000000</td>\n",
       "      <td>50.294976</td>\n",
       "      <td>37.058445</td>\n",
       "      <td>0.000000</td>\n",
       "    </tr>\n",
       "    <tr>\n",
       "      <th>1</th>\n",
       "      <td>2021-03-08</td>\n",
       "      <td>73.310886</td>\n",
       "      <td>214095600</td>\n",
       "      <td>0.000000</td>\n",
       "      <td>75.834688</td>\n",
       "      <td>38.776243</td>\n",
       "      <td>50.294976</td>\n",
       "      <td>40.751420</td>\n",
       "      <td>0.602555</td>\n",
       "    </tr>\n",
       "    <tr>\n",
       "      <th>2</th>\n",
       "      <td>2021-03-15</td>\n",
       "      <td>70.610119</td>\n",
       "      <td>151601700</td>\n",
       "      <td>0.000000</td>\n",
       "      <td>77.003067</td>\n",
       "      <td>1.168379</td>\n",
       "      <td>50.294976</td>\n",
       "      <td>44.203958</td>\n",
       "      <td>-2.700767</td>\n",
       "    </tr>\n",
       "    <tr>\n",
       "      <th>3</th>\n",
       "      <td>2021-03-22</td>\n",
       "      <td>70.256017</td>\n",
       "      <td>193982500</td>\n",
       "      <td>0.000000</td>\n",
       "      <td>70.017070</td>\n",
       "      <td>-6.985996</td>\n",
       "      <td>50.294976</td>\n",
       "      <td>46.662350</td>\n",
       "      <td>-0.354102</td>\n",
       "    </tr>\n",
       "    <tr>\n",
       "      <th>4</th>\n",
       "      <td>2021-03-29</td>\n",
       "      <td>68.258324</td>\n",
       "      <td>220238400</td>\n",
       "      <td>0.000000</td>\n",
       "      <td>74.170032</td>\n",
       "      <td>4.152962</td>\n",
       "      <td>50.294976</td>\n",
       "      <td>49.282129</td>\n",
       "      <td>-1.997693</td>\n",
       "    </tr>\n",
       "    <tr>\n",
       "      <th>...</th>\n",
       "      <td>...</td>\n",
       "      <td>...</td>\n",
       "      <td>...</td>\n",
       "      <td>...</td>\n",
       "      <td>...</td>\n",
       "      <td>...</td>\n",
       "      <td>...</td>\n",
       "      <td>...</td>\n",
       "      <td>...</td>\n",
       "    </tr>\n",
       "    <tr>\n",
       "      <th>95</th>\n",
       "      <td>2022-12-26</td>\n",
       "      <td>57.048622</td>\n",
       "      <td>224994700</td>\n",
       "      <td>57.154470</td>\n",
       "      <td>74.215925</td>\n",
       "      <td>2.013706</td>\n",
       "      <td>43.570337</td>\n",
       "      <td>70.291524</td>\n",
       "      <td>1.864530</td>\n",
       "    </tr>\n",
       "    <tr>\n",
       "      <th>96</th>\n",
       "      <td>2023-01-02</td>\n",
       "      <td>60.569661</td>\n",
       "      <td>176020500</td>\n",
       "      <td>58.375953</td>\n",
       "      <td>71.945154</td>\n",
       "      <td>-2.270771</td>\n",
       "      <td>47.952099</td>\n",
       "      <td>70.449012</td>\n",
       "      <td>3.521039</td>\n",
       "    </tr>\n",
       "    <tr>\n",
       "      <th>97</th>\n",
       "      <td>2023-01-09</td>\n",
       "      <td>61.446777</td>\n",
       "      <td>181478600</td>\n",
       "      <td>58.580299</td>\n",
       "      <td>77.215693</td>\n",
       "      <td>5.270540</td>\n",
       "      <td>46.420534</td>\n",
       "      <td>71.093458</td>\n",
       "      <td>0.877116</td>\n",
       "    </tr>\n",
       "    <tr>\n",
       "      <th>98</th>\n",
       "      <td>2023-01-16</td>\n",
       "      <td>55.447711</td>\n",
       "      <td>162471700</td>\n",
       "      <td>58.220398</td>\n",
       "      <td>77.045279</td>\n",
       "      <td>-0.170414</td>\n",
       "      <td>58.315324</td>\n",
       "      <td>71.660298</td>\n",
       "      <td>-5.999066</td>\n",
       "    </tr>\n",
       "    <tr>\n",
       "      <th>99</th>\n",
       "      <td>2023-01-23</td>\n",
       "      <td>57.008939</td>\n",
       "      <td>178924000</td>\n",
       "      <td>57.874794</td>\n",
       "      <td>85.959324</td>\n",
       "      <td>8.914045</td>\n",
       "      <td>67.627922</td>\n",
       "      <td>73.022110</td>\n",
       "      <td>1.561228</td>\n",
       "    </tr>\n",
       "  </tbody>\n",
       "</table>\n",
       "<p>100 rows × 9 columns</p>\n",
       "</div>"
      ],
      "text/plain": [
       "          Date       Open     Volume   SMA_Open      Close  Price Change  \\\n",
       "id                                                                         \n",
       "0   2021-03-01  72.708331  205897600   0.000000  37.058445      0.000000   \n",
       "1   2021-03-08  73.310886  214095600   0.000000  75.834688     38.776243   \n",
       "2   2021-03-15  70.610119  151601700   0.000000  77.003067      1.168379   \n",
       "3   2021-03-22  70.256017  193982500   0.000000  70.017070     -6.985996   \n",
       "4   2021-03-29  68.258324  220238400   0.000000  74.170032      4.152962   \n",
       "..         ...        ...        ...        ...        ...           ...   \n",
       "95  2022-12-26  57.048622  224994700  57.154470  74.215925      2.013706   \n",
       "96  2023-01-02  60.569661  176020500  58.375953  71.945154     -2.270771   \n",
       "97  2023-01-09  61.446777  181478600  58.580299  77.215693      5.270540   \n",
       "98  2023-01-16  55.447711  162471700  58.220398  77.045279     -0.170414   \n",
       "99  2023-01-23  57.008939  178924000  57.874794  85.959324      8.914045   \n",
       "\n",
       "          RSI        EMA  Open_Diff  \n",
       "id                                   \n",
       "0   50.294976  37.058445   0.000000  \n",
       "1   50.294976  40.751420   0.602555  \n",
       "2   50.294976  44.203958  -2.700767  \n",
       "3   50.294976  46.662350  -0.354102  \n",
       "4   50.294976  49.282129  -1.997693  \n",
       "..        ...        ...        ...  \n",
       "95  43.570337  70.291524   1.864530  \n",
       "96  47.952099  70.449012   3.521039  \n",
       "97  46.420534  71.093458   0.877116  \n",
       "98  58.315324  71.660298  -5.999066  \n",
       "99  67.627922  73.022110   1.561228  \n",
       "\n",
       "[100 rows x 9 columns]"
      ]
     },
     "execution_count": 37,
     "metadata": {},
     "output_type": "execute_result"
    }
   ],
   "source": [
    "test_1"
   ]
  },
  {
   "cell_type": "code",
   "execution_count": 38,
   "id": "3185222a",
   "metadata": {
    "execution": {
     "iopub.execute_input": "2024-07-18T17:36:24.907781Z",
     "iopub.status.busy": "2024-07-18T17:36:24.907357Z",
     "iopub.status.idle": "2024-07-18T17:36:24.938670Z",
     "shell.execute_reply": "2024-07-18T17:36:24.937352Z"
    },
    "papermill": {
     "duration": 0.058954,
     "end_time": "2024-07-18T17:36:24.941302",
     "exception": false,
     "start_time": "2024-07-18T17:36:24.882348",
     "status": "completed"
    },
    "tags": []
   },
   "outputs": [
    {
     "name": "stderr",
     "output_type": "stream",
     "text": [
      "/opt/conda/lib/python3.10/site-packages/sklearn/base.py:432: UserWarning: X has feature names, but SVC was fitted without feature names\n",
      "  warnings.warn(\n"
     ]
    },
    {
     "data": {
      "text/html": [
       "<div>\n",
       "<style scoped>\n",
       "    .dataframe tbody tr th:only-of-type {\n",
       "        vertical-align: middle;\n",
       "    }\n",
       "\n",
       "    .dataframe tbody tr th {\n",
       "        vertical-align: top;\n",
       "    }\n",
       "\n",
       "    .dataframe thead th {\n",
       "        text-align: right;\n",
       "    }\n",
       "</style>\n",
       "<table border=\"1\" class=\"dataframe\">\n",
       "  <thead>\n",
       "    <tr style=\"text-align: right;\">\n",
       "      <th></th>\n",
       "      <th>Date</th>\n",
       "      <th>Open</th>\n",
       "      <th>Volume</th>\n",
       "      <th>SMA_Open</th>\n",
       "      <th>Close</th>\n",
       "      <th>Price Change</th>\n",
       "      <th>RSI</th>\n",
       "      <th>EMA</th>\n",
       "      <th>Open_Diff</th>\n",
       "      <th>Strategy</th>\n",
       "    </tr>\n",
       "    <tr>\n",
       "      <th>id</th>\n",
       "      <th></th>\n",
       "      <th></th>\n",
       "      <th></th>\n",
       "      <th></th>\n",
       "      <th></th>\n",
       "      <th></th>\n",
       "      <th></th>\n",
       "      <th></th>\n",
       "      <th></th>\n",
       "      <th></th>\n",
       "    </tr>\n",
       "  </thead>\n",
       "  <tbody>\n",
       "    <tr>\n",
       "      <th>0</th>\n",
       "      <td>2021-03-01</td>\n",
       "      <td>72.708331</td>\n",
       "      <td>205897600</td>\n",
       "      <td>0.000000</td>\n",
       "      <td>37.058445</td>\n",
       "      <td>0.000000</td>\n",
       "      <td>50.294976</td>\n",
       "      <td>37.058445</td>\n",
       "      <td>0.000000</td>\n",
       "      <td>Hold</td>\n",
       "    </tr>\n",
       "    <tr>\n",
       "      <th>1</th>\n",
       "      <td>2021-03-08</td>\n",
       "      <td>73.310886</td>\n",
       "      <td>214095600</td>\n",
       "      <td>0.000000</td>\n",
       "      <td>75.834688</td>\n",
       "      <td>38.776243</td>\n",
       "      <td>50.294976</td>\n",
       "      <td>40.751420</td>\n",
       "      <td>0.602555</td>\n",
       "      <td>Sell</td>\n",
       "    </tr>\n",
       "    <tr>\n",
       "      <th>2</th>\n",
       "      <td>2021-03-15</td>\n",
       "      <td>70.610119</td>\n",
       "      <td>151601700</td>\n",
       "      <td>0.000000</td>\n",
       "      <td>77.003067</td>\n",
       "      <td>1.168379</td>\n",
       "      <td>50.294976</td>\n",
       "      <td>44.203958</td>\n",
       "      <td>-2.700767</td>\n",
       "      <td>Sell</td>\n",
       "    </tr>\n",
       "    <tr>\n",
       "      <th>3</th>\n",
       "      <td>2021-03-22</td>\n",
       "      <td>70.256017</td>\n",
       "      <td>193982500</td>\n",
       "      <td>0.000000</td>\n",
       "      <td>70.017070</td>\n",
       "      <td>-6.985996</td>\n",
       "      <td>50.294976</td>\n",
       "      <td>46.662350</td>\n",
       "      <td>-0.354102</td>\n",
       "      <td>Sell</td>\n",
       "    </tr>\n",
       "    <tr>\n",
       "      <th>4</th>\n",
       "      <td>2021-03-29</td>\n",
       "      <td>68.258324</td>\n",
       "      <td>220238400</td>\n",
       "      <td>0.000000</td>\n",
       "      <td>74.170032</td>\n",
       "      <td>4.152962</td>\n",
       "      <td>50.294976</td>\n",
       "      <td>49.282129</td>\n",
       "      <td>-1.997693</td>\n",
       "      <td>Sell</td>\n",
       "    </tr>\n",
       "    <tr>\n",
       "      <th>...</th>\n",
       "      <td>...</td>\n",
       "      <td>...</td>\n",
       "      <td>...</td>\n",
       "      <td>...</td>\n",
       "      <td>...</td>\n",
       "      <td>...</td>\n",
       "      <td>...</td>\n",
       "      <td>...</td>\n",
       "      <td>...</td>\n",
       "      <td>...</td>\n",
       "    </tr>\n",
       "    <tr>\n",
       "      <th>95</th>\n",
       "      <td>2022-12-26</td>\n",
       "      <td>57.048622</td>\n",
       "      <td>224994700</td>\n",
       "      <td>57.154470</td>\n",
       "      <td>74.215925</td>\n",
       "      <td>2.013706</td>\n",
       "      <td>43.570337</td>\n",
       "      <td>70.291524</td>\n",
       "      <td>1.864530</td>\n",
       "      <td>Hold</td>\n",
       "    </tr>\n",
       "    <tr>\n",
       "      <th>96</th>\n",
       "      <td>2023-01-02</td>\n",
       "      <td>60.569661</td>\n",
       "      <td>176020500</td>\n",
       "      <td>58.375953</td>\n",
       "      <td>71.945154</td>\n",
       "      <td>-2.270771</td>\n",
       "      <td>47.952099</td>\n",
       "      <td>70.449012</td>\n",
       "      <td>3.521039</td>\n",
       "      <td>Hold</td>\n",
       "    </tr>\n",
       "    <tr>\n",
       "      <th>97</th>\n",
       "      <td>2023-01-09</td>\n",
       "      <td>61.446777</td>\n",
       "      <td>181478600</td>\n",
       "      <td>58.580299</td>\n",
       "      <td>77.215693</td>\n",
       "      <td>5.270540</td>\n",
       "      <td>46.420534</td>\n",
       "      <td>71.093458</td>\n",
       "      <td>0.877116</td>\n",
       "      <td>Sell</td>\n",
       "    </tr>\n",
       "    <tr>\n",
       "      <th>98</th>\n",
       "      <td>2023-01-16</td>\n",
       "      <td>55.447711</td>\n",
       "      <td>162471700</td>\n",
       "      <td>58.220398</td>\n",
       "      <td>77.045279</td>\n",
       "      <td>-0.170414</td>\n",
       "      <td>58.315324</td>\n",
       "      <td>71.660298</td>\n",
       "      <td>-5.999066</td>\n",
       "      <td>Sell</td>\n",
       "    </tr>\n",
       "    <tr>\n",
       "      <th>99</th>\n",
       "      <td>2023-01-23</td>\n",
       "      <td>57.008939</td>\n",
       "      <td>178924000</td>\n",
       "      <td>57.874794</td>\n",
       "      <td>85.959324</td>\n",
       "      <td>8.914045</td>\n",
       "      <td>67.627922</td>\n",
       "      <td>73.022110</td>\n",
       "      <td>1.561228</td>\n",
       "      <td>Sell</td>\n",
       "    </tr>\n",
       "  </tbody>\n",
       "</table>\n",
       "<p>100 rows × 10 columns</p>\n",
       "</div>"
      ],
      "text/plain": [
       "          Date       Open     Volume   SMA_Open      Close  Price Change  \\\n",
       "id                                                                         \n",
       "0   2021-03-01  72.708331  205897600   0.000000  37.058445      0.000000   \n",
       "1   2021-03-08  73.310886  214095600   0.000000  75.834688     38.776243   \n",
       "2   2021-03-15  70.610119  151601700   0.000000  77.003067      1.168379   \n",
       "3   2021-03-22  70.256017  193982500   0.000000  70.017070     -6.985996   \n",
       "4   2021-03-29  68.258324  220238400   0.000000  74.170032      4.152962   \n",
       "..         ...        ...        ...        ...        ...           ...   \n",
       "95  2022-12-26  57.048622  224994700  57.154470  74.215925      2.013706   \n",
       "96  2023-01-02  60.569661  176020500  58.375953  71.945154     -2.270771   \n",
       "97  2023-01-09  61.446777  181478600  58.580299  77.215693      5.270540   \n",
       "98  2023-01-16  55.447711  162471700  58.220398  77.045279     -0.170414   \n",
       "99  2023-01-23  57.008939  178924000  57.874794  85.959324      8.914045   \n",
       "\n",
       "          RSI        EMA  Open_Diff Strategy  \n",
       "id                                            \n",
       "0   50.294976  37.058445   0.000000     Hold  \n",
       "1   50.294976  40.751420   0.602555     Sell  \n",
       "2   50.294976  44.203958  -2.700767     Sell  \n",
       "3   50.294976  46.662350  -0.354102     Sell  \n",
       "4   50.294976  49.282129  -1.997693     Sell  \n",
       "..        ...        ...        ...      ...  \n",
       "95  43.570337  70.291524   1.864530     Hold  \n",
       "96  47.952099  70.449012   3.521039     Hold  \n",
       "97  46.420534  71.093458   0.877116     Sell  \n",
       "98  58.315324  71.660298  -5.999066     Sell  \n",
       "99  67.627922  73.022110   1.561228     Sell  \n",
       "\n",
       "[100 rows x 10 columns]"
      ]
     },
     "execution_count": 38,
     "metadata": {},
     "output_type": "execute_result"
    }
   ],
   "source": [
    "# Your existing code to calculate the \"Strategy\" column\n",
    "X_test = test_1[['Open','RSI','EMA','Close','Price Change','SMA_Open']]\n",
    "y_pred = svm_classifier.predict(X_test)\n",
    "\n",
    "# Decode the labels back to their original values\n",
    "decoded_strategy = label_encoder.inverse_transform(y_pred)\n",
    "\n",
    "# Add the decoded strategy to the DataFrame\n",
    "test_1['Strategy'] = decoded_strategy\n",
    "test_1"
   ]
  },
  {
   "cell_type": "code",
   "execution_count": 39,
   "id": "7c98e8b2",
   "metadata": {
    "execution": {
     "iopub.execute_input": "2024-07-18T17:36:24.991546Z",
     "iopub.status.busy": "2024-07-18T17:36:24.991077Z",
     "iopub.status.idle": "2024-07-18T17:36:25.015120Z",
     "shell.execute_reply": "2024-07-18T17:36:25.013960Z"
    },
    "papermill": {
     "duration": 0.05193,
     "end_time": "2024-07-18T17:36:25.017602",
     "exception": false,
     "start_time": "2024-07-18T17:36:24.965672",
     "status": "completed"
    },
    "tags": []
   },
   "outputs": [
    {
     "data": {
      "text/html": [
       "<div>\n",
       "<style scoped>\n",
       "    .dataframe tbody tr th:only-of-type {\n",
       "        vertical-align: middle;\n",
       "    }\n",
       "\n",
       "    .dataframe tbody tr th {\n",
       "        vertical-align: top;\n",
       "    }\n",
       "\n",
       "    .dataframe thead th {\n",
       "        text-align: right;\n",
       "    }\n",
       "</style>\n",
       "<table border=\"1\" class=\"dataframe\">\n",
       "  <thead>\n",
       "    <tr style=\"text-align: right;\">\n",
       "      <th></th>\n",
       "      <th>Date</th>\n",
       "      <th>Open</th>\n",
       "      <th>Volume</th>\n",
       "      <th>SMA_Open</th>\n",
       "      <th>Close</th>\n",
       "      <th>Price Change</th>\n",
       "      <th>RSI</th>\n",
       "      <th>EMA</th>\n",
       "      <th>Open_Diff</th>\n",
       "      <th>Strategy</th>\n",
       "    </tr>\n",
       "    <tr>\n",
       "      <th>id</th>\n",
       "      <th></th>\n",
       "      <th></th>\n",
       "      <th></th>\n",
       "      <th></th>\n",
       "      <th></th>\n",
       "      <th></th>\n",
       "      <th></th>\n",
       "      <th></th>\n",
       "      <th></th>\n",
       "      <th></th>\n",
       "    </tr>\n",
       "  </thead>\n",
       "  <tbody>\n",
       "    <tr>\n",
       "      <th>0</th>\n",
       "      <td>2021-03-01</td>\n",
       "      <td>72.708331</td>\n",
       "      <td>205897600</td>\n",
       "      <td>0.000000</td>\n",
       "      <td>37.058445</td>\n",
       "      <td>0.000000</td>\n",
       "      <td>50.294976</td>\n",
       "      <td>37.058445</td>\n",
       "      <td>0.000000</td>\n",
       "      <td>Hold</td>\n",
       "    </tr>\n",
       "    <tr>\n",
       "      <th>1</th>\n",
       "      <td>2021-03-08</td>\n",
       "      <td>73.310886</td>\n",
       "      <td>214095600</td>\n",
       "      <td>0.000000</td>\n",
       "      <td>75.834688</td>\n",
       "      <td>38.776243</td>\n",
       "      <td>50.294976</td>\n",
       "      <td>40.751420</td>\n",
       "      <td>0.602555</td>\n",
       "      <td>Sell</td>\n",
       "    </tr>\n",
       "    <tr>\n",
       "      <th>2</th>\n",
       "      <td>2021-03-15</td>\n",
       "      <td>70.610119</td>\n",
       "      <td>151601700</td>\n",
       "      <td>0.000000</td>\n",
       "      <td>77.003067</td>\n",
       "      <td>1.168379</td>\n",
       "      <td>50.294976</td>\n",
       "      <td>44.203958</td>\n",
       "      <td>-2.700767</td>\n",
       "      <td>Sell</td>\n",
       "    </tr>\n",
       "    <tr>\n",
       "      <th>3</th>\n",
       "      <td>2021-03-22</td>\n",
       "      <td>70.256017</td>\n",
       "      <td>193982500</td>\n",
       "      <td>0.000000</td>\n",
       "      <td>70.017070</td>\n",
       "      <td>-6.985996</td>\n",
       "      <td>50.294976</td>\n",
       "      <td>46.662350</td>\n",
       "      <td>-0.354102</td>\n",
       "      <td>Sell</td>\n",
       "    </tr>\n",
       "    <tr>\n",
       "      <th>4</th>\n",
       "      <td>2021-03-29</td>\n",
       "      <td>68.258324</td>\n",
       "      <td>220238400</td>\n",
       "      <td>0.000000</td>\n",
       "      <td>74.170032</td>\n",
       "      <td>4.152962</td>\n",
       "      <td>50.294976</td>\n",
       "      <td>49.282129</td>\n",
       "      <td>-1.997693</td>\n",
       "      <td>Sell</td>\n",
       "    </tr>\n",
       "    <tr>\n",
       "      <th>...</th>\n",
       "      <td>...</td>\n",
       "      <td>...</td>\n",
       "      <td>...</td>\n",
       "      <td>...</td>\n",
       "      <td>...</td>\n",
       "      <td>...</td>\n",
       "      <td>...</td>\n",
       "      <td>...</td>\n",
       "      <td>...</td>\n",
       "      <td>...</td>\n",
       "    </tr>\n",
       "    <tr>\n",
       "      <th>95</th>\n",
       "      <td>2022-12-26</td>\n",
       "      <td>57.048622</td>\n",
       "      <td>224994700</td>\n",
       "      <td>57.154470</td>\n",
       "      <td>74.215925</td>\n",
       "      <td>2.013706</td>\n",
       "      <td>43.570337</td>\n",
       "      <td>70.291524</td>\n",
       "      <td>1.864530</td>\n",
       "      <td>Hold</td>\n",
       "    </tr>\n",
       "    <tr>\n",
       "      <th>96</th>\n",
       "      <td>2023-01-02</td>\n",
       "      <td>60.569661</td>\n",
       "      <td>176020500</td>\n",
       "      <td>58.375953</td>\n",
       "      <td>71.945154</td>\n",
       "      <td>-2.270771</td>\n",
       "      <td>47.952099</td>\n",
       "      <td>70.449012</td>\n",
       "      <td>3.521039</td>\n",
       "      <td>Hold</td>\n",
       "    </tr>\n",
       "    <tr>\n",
       "      <th>97</th>\n",
       "      <td>2023-01-09</td>\n",
       "      <td>61.446777</td>\n",
       "      <td>181478600</td>\n",
       "      <td>58.580299</td>\n",
       "      <td>77.215693</td>\n",
       "      <td>5.270540</td>\n",
       "      <td>46.420534</td>\n",
       "      <td>71.093458</td>\n",
       "      <td>0.877116</td>\n",
       "      <td>Sell</td>\n",
       "    </tr>\n",
       "    <tr>\n",
       "      <th>98</th>\n",
       "      <td>2023-01-16</td>\n",
       "      <td>55.447711</td>\n",
       "      <td>162471700</td>\n",
       "      <td>58.220398</td>\n",
       "      <td>77.045279</td>\n",
       "      <td>-0.170414</td>\n",
       "      <td>58.315324</td>\n",
       "      <td>71.660298</td>\n",
       "      <td>-5.999066</td>\n",
       "      <td>Sell</td>\n",
       "    </tr>\n",
       "    <tr>\n",
       "      <th>99</th>\n",
       "      <td>2023-01-23</td>\n",
       "      <td>57.008939</td>\n",
       "      <td>178924000</td>\n",
       "      <td>57.874794</td>\n",
       "      <td>85.959324</td>\n",
       "      <td>8.914045</td>\n",
       "      <td>67.627922</td>\n",
       "      <td>73.022110</td>\n",
       "      <td>1.561228</td>\n",
       "      <td>Sell</td>\n",
       "    </tr>\n",
       "  </tbody>\n",
       "</table>\n",
       "<p>100 rows × 10 columns</p>\n",
       "</div>"
      ],
      "text/plain": [
       "          Date       Open     Volume   SMA_Open      Close  Price Change  \\\n",
       "id                                                                         \n",
       "0   2021-03-01  72.708331  205897600   0.000000  37.058445      0.000000   \n",
       "1   2021-03-08  73.310886  214095600   0.000000  75.834688     38.776243   \n",
       "2   2021-03-15  70.610119  151601700   0.000000  77.003067      1.168379   \n",
       "3   2021-03-22  70.256017  193982500   0.000000  70.017070     -6.985996   \n",
       "4   2021-03-29  68.258324  220238400   0.000000  74.170032      4.152962   \n",
       "..         ...        ...        ...        ...        ...           ...   \n",
       "95  2022-12-26  57.048622  224994700  57.154470  74.215925      2.013706   \n",
       "96  2023-01-02  60.569661  176020500  58.375953  71.945154     -2.270771   \n",
       "97  2023-01-09  61.446777  181478600  58.580299  77.215693      5.270540   \n",
       "98  2023-01-16  55.447711  162471700  58.220398  77.045279     -0.170414   \n",
       "99  2023-01-23  57.008939  178924000  57.874794  85.959324      8.914045   \n",
       "\n",
       "          RSI        EMA  Open_Diff Strategy  \n",
       "id                                            \n",
       "0   50.294976  37.058445   0.000000     Hold  \n",
       "1   50.294976  40.751420   0.602555     Sell  \n",
       "2   50.294976  44.203958  -2.700767     Sell  \n",
       "3   50.294976  46.662350  -0.354102     Sell  \n",
       "4   50.294976  49.282129  -1.997693     Sell  \n",
       "..        ...        ...        ...      ...  \n",
       "95  43.570337  70.291524   1.864530     Hold  \n",
       "96  47.952099  70.449012   3.521039     Hold  \n",
       "97  46.420534  71.093458   0.877116     Sell  \n",
       "98  58.315324  71.660298  -5.999066     Sell  \n",
       "99  67.627922  73.022110   1.561228     Sell  \n",
       "\n",
       "[100 rows x 10 columns]"
      ]
     },
     "execution_count": 39,
     "metadata": {},
     "output_type": "execute_result"
    }
   ],
   "source": [
    "test_1"
   ]
  },
  {
   "cell_type": "markdown",
   "id": "a5afa4cc",
   "metadata": {
    "papermill": {
     "duration": 0.024354,
     "end_time": "2024-07-18T17:36:25.067550",
     "exception": false,
     "start_time": "2024-07-18T17:36:25.043196",
     "status": "completed"
    },
    "tags": []
   },
   "source": [
    "We now employ our models onto the test dataset. By copying the test dataset into 'test_1', we maintain the original test dataset intact while applying these transformations and additions to 'test_1' for analysis, evaluation, and any further processing that may be required. This separation ensures that we can work with the modified data while preserving the integrity of the original test dataset for future reference or different analyses."
   ]
  },
  {
   "cell_type": "markdown",
   "id": "e7404e25",
   "metadata": {
    "papermill": {
     "duration": 0.024152,
     "end_time": "2024-07-18T17:36:25.116174",
     "exception": false,
     "start_time": "2024-07-18T17:36:25.092022",
     "status": "completed"
    },
    "tags": []
   },
   "source": [
    "By checking for and summarizing missing values using train.isnull().sum(), we gain insights into the data's completeness and can take appropriate actions to handle missing data, which is a fundamental step in data preprocessing and analysis."
   ]
  },
  {
   "cell_type": "code",
   "execution_count": 40,
   "id": "b724d7b0",
   "metadata": {
    "execution": {
     "iopub.execute_input": "2024-07-18T17:36:25.167860Z",
     "iopub.status.busy": "2024-07-18T17:36:25.167454Z",
     "iopub.status.idle": "2024-07-18T17:36:25.174690Z",
     "shell.execute_reply": "2024-07-18T17:36:25.173641Z"
    },
    "papermill": {
     "duration": 0.035766,
     "end_time": "2024-07-18T17:36:25.177197",
     "exception": false,
     "start_time": "2024-07-18T17:36:25.141431",
     "status": "completed"
    },
    "tags": []
   },
   "outputs": [],
   "source": [
    "submission = pd.DataFrame()\n",
    "submission[\"Date\"] = test[\"Date\"]"
   ]
  },
  {
   "cell_type": "code",
   "execution_count": 41,
   "id": "5d1a6ba1",
   "metadata": {
    "execution": {
     "iopub.execute_input": "2024-07-18T17:36:25.228989Z",
     "iopub.status.busy": "2024-07-18T17:36:25.228254Z",
     "iopub.status.idle": "2024-07-18T17:36:25.245644Z",
     "shell.execute_reply": "2024-07-18T17:36:25.244570Z"
    },
    "papermill": {
     "duration": 0.046108,
     "end_time": "2024-07-18T17:36:25.248101",
     "exception": false,
     "start_time": "2024-07-18T17:36:25.201993",
     "status": "completed"
    },
    "tags": []
   },
   "outputs": [
    {
     "data": {
      "text/html": [
       "<div>\n",
       "<style scoped>\n",
       "    .dataframe tbody tr th:only-of-type {\n",
       "        vertical-align: middle;\n",
       "    }\n",
       "\n",
       "    .dataframe tbody tr th {\n",
       "        vertical-align: top;\n",
       "    }\n",
       "\n",
       "    .dataframe thead th {\n",
       "        text-align: right;\n",
       "    }\n",
       "</style>\n",
       "<table border=\"1\" class=\"dataframe\">\n",
       "  <thead>\n",
       "    <tr style=\"text-align: right;\">\n",
       "      <th></th>\n",
       "      <th>Date</th>\n",
       "      <th>Close</th>\n",
       "      <th>Strategy</th>\n",
       "    </tr>\n",
       "    <tr>\n",
       "      <th>id</th>\n",
       "      <th></th>\n",
       "      <th></th>\n",
       "      <th></th>\n",
       "    </tr>\n",
       "  </thead>\n",
       "  <tbody>\n",
       "    <tr>\n",
       "      <th>0</th>\n",
       "      <td>2021-03-01</td>\n",
       "      <td>37.058445</td>\n",
       "      <td>Hold</td>\n",
       "    </tr>\n",
       "    <tr>\n",
       "      <th>1</th>\n",
       "      <td>2021-03-08</td>\n",
       "      <td>75.834688</td>\n",
       "      <td>Sell</td>\n",
       "    </tr>\n",
       "    <tr>\n",
       "      <th>2</th>\n",
       "      <td>2021-03-15</td>\n",
       "      <td>77.003067</td>\n",
       "      <td>Sell</td>\n",
       "    </tr>\n",
       "    <tr>\n",
       "      <th>3</th>\n",
       "      <td>2021-03-22</td>\n",
       "      <td>70.017070</td>\n",
       "      <td>Sell</td>\n",
       "    </tr>\n",
       "    <tr>\n",
       "      <th>4</th>\n",
       "      <td>2021-03-29</td>\n",
       "      <td>74.170032</td>\n",
       "      <td>Sell</td>\n",
       "    </tr>\n",
       "    <tr>\n",
       "      <th>...</th>\n",
       "      <td>...</td>\n",
       "      <td>...</td>\n",
       "      <td>...</td>\n",
       "    </tr>\n",
       "    <tr>\n",
       "      <th>95</th>\n",
       "      <td>2022-12-26</td>\n",
       "      <td>74.215925</td>\n",
       "      <td>Hold</td>\n",
       "    </tr>\n",
       "    <tr>\n",
       "      <th>96</th>\n",
       "      <td>2023-01-02</td>\n",
       "      <td>71.945154</td>\n",
       "      <td>Hold</td>\n",
       "    </tr>\n",
       "    <tr>\n",
       "      <th>97</th>\n",
       "      <td>2023-01-09</td>\n",
       "      <td>77.215693</td>\n",
       "      <td>Sell</td>\n",
       "    </tr>\n",
       "    <tr>\n",
       "      <th>98</th>\n",
       "      <td>2023-01-16</td>\n",
       "      <td>77.045279</td>\n",
       "      <td>Sell</td>\n",
       "    </tr>\n",
       "    <tr>\n",
       "      <th>99</th>\n",
       "      <td>2023-01-23</td>\n",
       "      <td>85.959324</td>\n",
       "      <td>Sell</td>\n",
       "    </tr>\n",
       "  </tbody>\n",
       "</table>\n",
       "<p>100 rows × 3 columns</p>\n",
       "</div>"
      ],
      "text/plain": [
       "          Date      Close Strategy\n",
       "id                                \n",
       "0   2021-03-01  37.058445     Hold\n",
       "1   2021-03-08  75.834688     Sell\n",
       "2   2021-03-15  77.003067     Sell\n",
       "3   2021-03-22  70.017070     Sell\n",
       "4   2021-03-29  74.170032     Sell\n",
       "..         ...        ...      ...\n",
       "95  2022-12-26  74.215925     Hold\n",
       "96  2023-01-02  71.945154     Hold\n",
       "97  2023-01-09  77.215693     Sell\n",
       "98  2023-01-16  77.045279     Sell\n",
       "99  2023-01-23  85.959324     Sell\n",
       "\n",
       "[100 rows x 3 columns]"
      ]
     },
     "execution_count": 41,
     "metadata": {},
     "output_type": "execute_result"
    }
   ],
   "source": [
    "submission[\"Close\"] = test_1[\"Close\"]\n",
    "submission['Strategy'] = test_1['Strategy']\n",
    "submission"
   ]
  },
  {
   "cell_type": "code",
   "execution_count": 42,
   "id": "39b8b395",
   "metadata": {
    "execution": {
     "iopub.execute_input": "2024-07-18T17:36:25.300067Z",
     "iopub.status.busy": "2024-07-18T17:36:25.299075Z",
     "iopub.status.idle": "2024-07-18T17:36:25.306715Z",
     "shell.execute_reply": "2024-07-18T17:36:25.305492Z"
    },
    "papermill": {
     "duration": 0.036266,
     "end_time": "2024-07-18T17:36:25.309195",
     "exception": false,
     "start_time": "2024-07-18T17:36:25.272929",
     "status": "completed"
    },
    "tags": []
   },
   "outputs": [],
   "source": [
    "submission.to_csv(\"submission.csv\",index=True)"
   ]
  },
  {
   "cell_type": "markdown",
   "id": "16123782",
   "metadata": {
    "papermill": {
     "duration": 0.024593,
     "end_time": "2024-07-18T17:36:25.358994",
     "exception": false,
     "start_time": "2024-07-18T17:36:25.334401",
     "status": "completed"
    },
    "tags": []
   },
   "source": [
    "**RESULT interpretation **\n",
    "\n",
    "The SMAPE (Symmetric Mean Absolute Percentage Error) score of 0.02 indicates an impressively accurate forecasting of stock prices. This low SMAPE score signifies that the predicted values closely align with the actual prices, and our model demonstrates a high level of precision in capturing the nuances of stock price movements.\n",
    "\n",
    "Furthermore, the accuracy of 89.5% in classifying trading strategies as 'Buy,' 'Hold,' or 'Sell' highlights the robustness of our model in making strategic recommendations. This level of accuracy ensures that the strategies generated by our model are highly reliable and can potentially assist investors in making informed decisions when navigating the stock market.\n",
    "\n",
    "In combination, the low SMAPE and high classification accuracy underscore the effectiveness of our approach in both price prediction and trading strategy recommendations, making it a valuable tool for stock market analysis and decision-making."
   ]
  }
 ],
 "metadata": {
  "kaggle": {
   "accelerator": "none",
   "dataSources": [
    {
     "databundleVersionId": 6834706,
     "sourceId": 62334,
     "sourceType": "competition"
    },
    {
     "sourceId": 148925035,
     "sourceType": "kernelVersion"
    }
   ],
   "dockerImageVersionId": 30558,
   "isGpuEnabled": false,
   "isInternetEnabled": true,
   "language": "python",
   "sourceType": "notebook"
  },
  "kernelspec": {
   "display_name": "Python 3",
   "language": "python",
   "name": "python3"
  },
  "language_info": {
   "codemirror_mode": {
    "name": "ipython",
    "version": 3
   },
   "file_extension": ".py",
   "mimetype": "text/x-python",
   "name": "python",
   "nbconvert_exporter": "python",
   "pygments_lexer": "ipython3",
   "version": "3.10.12"
  },
  "papermill": {
   "default_parameters": {},
   "duration": 85.111001,
   "end_time": "2024-07-18T17:36:26.106773",
   "environment_variables": {},
   "exception": null,
   "input_path": "__notebook__.ipynb",
   "output_path": "__notebook__.ipynb",
   "parameters": {},
   "start_time": "2024-07-18T17:35:00.995772",
   "version": "2.4.0"
  }
 },
 "nbformat": 4,
 "nbformat_minor": 5
}
